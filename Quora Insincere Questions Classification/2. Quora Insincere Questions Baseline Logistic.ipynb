{
 "cells": [
  {
   "cell_type": "markdown",
   "metadata": {},
   "source": [
    "## Quora Insincere Question Classification"
   ]
  },
  {
   "cell_type": "markdown",
   "metadata": {},
   "source": [
    "### Abstract \n",
    "\n",
    "The objective is to predict whether a question asked on Quora is sincere or not.\n",
    "An insincere question is defined as a question intended to make a statement rather than look for helpful answers. Some characteristics that can signify that a question is insincere:\n",
    "\n",
    "- Has a non-neutral tone\n",
    "- Has an exaggerated tone to underscore a point about a group of people\n",
    "- Is rhetorical and meant to imply a statement about a group of people\n",
    "- Is disparaging or inflammatory\n",
    "- Suggests a discriminatory idea against a protected class of people, or seeks confirmation of a stereotype\n",
    "- Makes disparaging attacks/insults against a specific person or group of people\n",
    "\n",
    "### Baseline - Logistic Regression with tf-idf\n",
    "\n",
    "I will try various Deep Learning Algorithms to see which works best of this dataset like LSTM, SimpleRNN, Conv1D, GRU etc. I will also use pre-trained word embeddings in few algorithms. As a baseline, I will use Naive Bayes and Logistic regression for this. "
   ]
  },
  {
   "cell_type": "code",
   "execution_count": 19,
   "metadata": {},
   "outputs": [],
   "source": [
    "import pandas as pd\n",
    "import numpy as np\n",
    "import matplotlib.pyplot as plt\n",
    "import os\n",
    "import seaborn as sns\n",
    "import time, gc, warnings\n",
    "\n",
    "import re\n",
    "import string\n",
    "from nltk.corpus import stopwords\n",
    "from nltk.stem.wordnet import WordNetLemmatizer \n",
    "from nltk.tokenize import TweetTokenizer\n",
    "\n",
    "\n",
    "from sklearn.model_selection import train_test_split\n",
    "from sklearn import metrics\n",
    "from sklearn.feature_extraction.text import TfidfVectorizer, CountVectorizer\n",
    "from sklearn.model_selection import GridSearchCV\n",
    "from sklearn import linear_model\n",
    "\n",
    "from keras.preprocessing.text import Tokenizer\n",
    "from keras.preprocessing.sequence import pad_sequences\n",
    "from keras.layers import Dense, Input, LSTM, Embedding, Dropout, Activation\n",
    "from keras.layers import Bidirectional, GlobalMaxPool1D, Conv1D, GRU, SimpleRNN\n",
    "from keras.models import Model\n",
    "from keras import initializers, regularizers, constraints, optimizers, layers\n",
    "\n",
    "from wordcloud import WordCloud, STOPWORDS\n",
    "\n",
    "np.random.seed(42)\n",
    "warnings.filterwarnings(\"ignore\")\n",
    "stop_words = set(stopwords.words(\"english\"))\n",
    "punctuations = string.punctuation\n",
    "\n",
    "%matplotlib inline"
   ]
  },
  {
   "cell_type": "code",
   "execution_count": 2,
   "metadata": {},
   "outputs": [],
   "source": [
    "os.chdir(r'N:\\ADVANCE DATA SCIENCE\\ASSIGNMENTS\\Assignment 3')"
   ]
  },
  {
   "cell_type": "code",
   "execution_count": 3,
   "metadata": {},
   "outputs": [],
   "source": [
    "df_Quora = pd.read_csv('quora_questions_.csv')"
   ]
  },
  {
   "cell_type": "code",
   "execution_count": 4,
   "metadata": {},
   "outputs": [
    {
     "data": {
      "text/html": [
       "<div>\n",
       "<style scoped>\n",
       "    .dataframe tbody tr th:only-of-type {\n",
       "        vertical-align: middle;\n",
       "    }\n",
       "\n",
       "    .dataframe tbody tr th {\n",
       "        vertical-align: top;\n",
       "    }\n",
       "\n",
       "    .dataframe thead th {\n",
       "        text-align: right;\n",
       "    }\n",
       "</style>\n",
       "<table border=\"1\" class=\"dataframe\">\n",
       "  <thead>\n",
       "    <tr style=\"text-align: right;\">\n",
       "      <th></th>\n",
       "      <th>qid</th>\n",
       "      <th>question_text</th>\n",
       "      <th>target</th>\n",
       "    </tr>\n",
       "  </thead>\n",
       "  <tbody>\n",
       "    <tr>\n",
       "      <th>0</th>\n",
       "      <td>69d762db89f677e2b38d</td>\n",
       "      <td>How can I live fully happier life?</td>\n",
       "      <td>0</td>\n",
       "    </tr>\n",
       "    <tr>\n",
       "      <th>1</th>\n",
       "      <td>de052885a7cb6483c482</td>\n",
       "      <td>What is the difference between IT and computer...</td>\n",
       "      <td>0</td>\n",
       "    </tr>\n",
       "    <tr>\n",
       "      <th>2</th>\n",
       "      <td>5cf30b565aa71a3ce65c</td>\n",
       "      <td>Why a suit is the dress code of business people?</td>\n",
       "      <td>0</td>\n",
       "    </tr>\n",
       "    <tr>\n",
       "      <th>3</th>\n",
       "      <td>a2483d6b6debff584f87</td>\n",
       "      <td>How can you get the earnest money loan for a b...</td>\n",
       "      <td>0</td>\n",
       "    </tr>\n",
       "    <tr>\n",
       "      <th>4</th>\n",
       "      <td>c93fef8401e553bbee16</td>\n",
       "      <td>Why would an atheist care if others celebrate ...</td>\n",
       "      <td>0</td>\n",
       "    </tr>\n",
       "  </tbody>\n",
       "</table>\n",
       "</div>"
      ],
      "text/plain": [
       "                    qid                                      question_text  \\\n",
       "0  69d762db89f677e2b38d                 How can I live fully happier life?   \n",
       "1  de052885a7cb6483c482  What is the difference between IT and computer...   \n",
       "2  5cf30b565aa71a3ce65c   Why a suit is the dress code of business people?   \n",
       "3  a2483d6b6debff584f87  How can you get the earnest money loan for a b...   \n",
       "4  c93fef8401e553bbee16  Why would an atheist care if others celebrate ...   \n",
       "\n",
       "   target  \n",
       "0       0  \n",
       "1       0  \n",
       "2       0  \n",
       "3       0  \n",
       "4       0  "
      ]
     },
     "execution_count": 4,
     "metadata": {},
     "output_type": "execute_result"
    }
   ],
   "source": [
    "df_Quora[df_Quora.target == 0].head(5)"
   ]
  },
  {
   "cell_type": "code",
   "execution_count": 5,
   "metadata": {},
   "outputs": [
    {
     "data": {
      "text/html": [
       "<div>\n",
       "<style scoped>\n",
       "    .dataframe tbody tr th:only-of-type {\n",
       "        vertical-align: middle;\n",
       "    }\n",
       "\n",
       "    .dataframe tbody tr th {\n",
       "        vertical-align: top;\n",
       "    }\n",
       "\n",
       "    .dataframe thead th {\n",
       "        text-align: right;\n",
       "    }\n",
       "</style>\n",
       "<table border=\"1\" class=\"dataframe\">\n",
       "  <thead>\n",
       "    <tr style=\"text-align: right;\">\n",
       "      <th></th>\n",
       "      <th>qid</th>\n",
       "      <th>question_text</th>\n",
       "      <th>target</th>\n",
       "    </tr>\n",
       "  </thead>\n",
       "  <tbody>\n",
       "    <tr>\n",
       "      <th>61266</th>\n",
       "      <td>9d91dabfc5358b6e9b4a</td>\n",
       "      <td>Has Trump (since becoming president), ever com...</td>\n",
       "      <td>1</td>\n",
       "    </tr>\n",
       "    <tr>\n",
       "      <th>61267</th>\n",
       "      <td>cafdbedf2152a331cf88</td>\n",
       "      <td>Why Turkish people and Iranians look white des...</td>\n",
       "      <td>1</td>\n",
       "    </tr>\n",
       "    <tr>\n",
       "      <th>61268</th>\n",
       "      <td>877e654f6097f6dde056</td>\n",
       "      <td>Do Hungarians envy Romania, because they are b...</td>\n",
       "      <td>1</td>\n",
       "    </tr>\n",
       "    <tr>\n",
       "      <th>61269</th>\n",
       "      <td>341b769d29966cae4b16</td>\n",
       "      <td>I just got a message that my answer had been \"...</td>\n",
       "      <td>1</td>\n",
       "    </tr>\n",
       "    <tr>\n",
       "      <th>61270</th>\n",
       "      <td>136b7b3b0dc24a6256c0</td>\n",
       "      <td>What does black man cum taste like?</td>\n",
       "      <td>1</td>\n",
       "    </tr>\n",
       "  </tbody>\n",
       "</table>\n",
       "</div>"
      ],
      "text/plain": [
       "                        qid  \\\n",
       "61266  9d91dabfc5358b6e9b4a   \n",
       "61267  cafdbedf2152a331cf88   \n",
       "61268  877e654f6097f6dde056   \n",
       "61269  341b769d29966cae4b16   \n",
       "61270  136b7b3b0dc24a6256c0   \n",
       "\n",
       "                                           question_text  target  \n",
       "61266  Has Trump (since becoming president), ever com...       1  \n",
       "61267  Why Turkish people and Iranians look white des...       1  \n",
       "61268  Do Hungarians envy Romania, because they are b...       1  \n",
       "61269  I just got a message that my answer had been \"...       1  \n",
       "61270                What does black man cum taste like?       1  "
      ]
     },
     "execution_count": 5,
     "metadata": {},
     "output_type": "execute_result"
    }
   ],
   "source": [
    "df_Quora[df_Quora.target == 1].head(5)"
   ]
  },
  {
   "cell_type": "markdown",
   "metadata": {},
   "source": [
    "### Data Pre-processing"
   ]
  },
  {
   "cell_type": "code",
   "execution_count": 6,
   "metadata": {},
   "outputs": [],
   "source": [
    "lem = WordNetLemmatizer()\n",
    "tokenizer = TweetTokenizer()"
   ]
  },
  {
   "cell_type": "code",
   "execution_count": 7,
   "metadata": {},
   "outputs": [],
   "source": [
    "def clean_text(question):\n",
    "    \"\"\"\n",
    "    This function receives comments and returns clean word-list\n",
    "    \"\"\"\n",
    "    question = question.lower()\n",
    "    question = re.sub(\"\\\\n\", \"\", question)\n",
    "    question = re.sub(\"\\'\", \"\", question)\n",
    "    question = re.sub(\"\\W+\", \" \", question)\n",
    "    \n",
    "    #Split the sentences into words\n",
    "    words = tokenizer.tokenize(question)\n",
    "    \n",
    "    words = [lem.lemmatize(word, \"v\") for word in words]\n",
    "    words = [w for w in words if w not in punctuations]\n",
    "    #words = [''.join(x for x in w if x.isalpha()) for w in words]\n",
    "\n",
    "    clean_sen = \" \".join(words)\n",
    "    \n",
    "    return clean_sen"
   ]
  },
  {
   "cell_type": "code",
   "execution_count": 8,
   "metadata": {},
   "outputs": [
    {
     "data": {
      "text/html": [
       "<div>\n",
       "<style scoped>\n",
       "    .dataframe tbody tr th:only-of-type {\n",
       "        vertical-align: middle;\n",
       "    }\n",
       "\n",
       "    .dataframe tbody tr th {\n",
       "        vertical-align: top;\n",
       "    }\n",
       "\n",
       "    .dataframe thead th {\n",
       "        text-align: right;\n",
       "    }\n",
       "</style>\n",
       "<table border=\"1\" class=\"dataframe\">\n",
       "  <thead>\n",
       "    <tr style=\"text-align: right;\">\n",
       "      <th></th>\n",
       "      <th>qid</th>\n",
       "      <th>question_text</th>\n",
       "      <th>target</th>\n",
       "      <th>question_text_</th>\n",
       "    </tr>\n",
       "  </thead>\n",
       "  <tbody>\n",
       "    <tr>\n",
       "      <th>0</th>\n",
       "      <td>69d762db89f677e2b38d</td>\n",
       "      <td>How can I live fully happier life?</td>\n",
       "      <td>0</td>\n",
       "      <td>how can i live fully happier life</td>\n",
       "    </tr>\n",
       "    <tr>\n",
       "      <th>1</th>\n",
       "      <td>de052885a7cb6483c482</td>\n",
       "      <td>What is the difference between IT and computer...</td>\n",
       "      <td>0</td>\n",
       "      <td>what be the difference between it and computer...</td>\n",
       "    </tr>\n",
       "    <tr>\n",
       "      <th>2</th>\n",
       "      <td>5cf30b565aa71a3ce65c</td>\n",
       "      <td>Why a suit is the dress code of business people?</td>\n",
       "      <td>0</td>\n",
       "      <td>why a suit be the dress code of business people</td>\n",
       "    </tr>\n",
       "    <tr>\n",
       "      <th>3</th>\n",
       "      <td>a2483d6b6debff584f87</td>\n",
       "      <td>How can you get the earnest money loan for a b...</td>\n",
       "      <td>0</td>\n",
       "      <td>how can you get the earnest money loan for a b...</td>\n",
       "    </tr>\n",
       "    <tr>\n",
       "      <th>4</th>\n",
       "      <td>c93fef8401e553bbee16</td>\n",
       "      <td>Why would an atheist care if others celebrate ...</td>\n",
       "      <td>0</td>\n",
       "      <td>why would an atheist care if others celebrate ...</td>\n",
       "    </tr>\n",
       "  </tbody>\n",
       "</table>\n",
       "</div>"
      ],
      "text/plain": [
       "                    qid                                      question_text  \\\n",
       "0  69d762db89f677e2b38d                 How can I live fully happier life?   \n",
       "1  de052885a7cb6483c482  What is the difference between IT and computer...   \n",
       "2  5cf30b565aa71a3ce65c   Why a suit is the dress code of business people?   \n",
       "3  a2483d6b6debff584f87  How can you get the earnest money loan for a b...   \n",
       "4  c93fef8401e553bbee16  Why would an atheist care if others celebrate ...   \n",
       "\n",
       "   target                                     question_text_  \n",
       "0       0                  how can i live fully happier life  \n",
       "1       0  what be the difference between it and computer...  \n",
       "2       0    why a suit be the dress code of business people  \n",
       "3       0  how can you get the earnest money loan for a b...  \n",
       "4       0  why would an atheist care if others celebrate ...  "
      ]
     },
     "execution_count": 8,
     "metadata": {},
     "output_type": "execute_result"
    }
   ],
   "source": [
    "df_Quora[\"question_text_\"] = df_Quora[\"question_text\"].apply(lambda question: clean_text(question))\n",
    "df_Quora.head()"
   ]
  },
  {
   "cell_type": "code",
   "execution_count": 9,
   "metadata": {},
   "outputs": [],
   "source": [
    "features = df_Quora['question_text_']\n",
    "target = df_Quora['target']"
   ]
  },
  {
   "cell_type": "markdown",
   "metadata": {},
   "source": [
    "### Stratified Split \n",
    "\n",
    "To avoid Sampling Bias due to Random Sampling, I will split the data using Stratifed Split as the 2 output classes are imbalanced. "
   ]
  },
  {
   "cell_type": "code",
   "execution_count": 10,
   "metadata": {},
   "outputs": [],
   "source": [
    "X_train, X_test, Y_train, Y_test = train_test_split(features, target, test_size=0.1, stratify=target, random_state=100)"
   ]
  },
  {
   "cell_type": "markdown",
   "metadata": {},
   "source": [
    "### Baseline - Tf-idf & Logistic Regression"
   ]
  },
  {
   "cell_type": "code",
   "execution_count": 11,
   "metadata": {},
   "outputs": [],
   "source": [
    "# Get the tfidf vectors #\n",
    "tfidf_vec = TfidfVectorizer(stop_words='english', ngram_range=(1,3))\n",
    "tfidf_vec.fit_transform(X_train.values.tolist() + X_test.values.tolist())\n",
    "train_tfidf = tfidf_vec.transform(X_train.values.tolist())\n",
    "test_tfidf = tfidf_vec.transform(X_test.values.tolist())\n",
    "\n",
    "Y_train = Y_train.values"
   ]
  },
  {
   "cell_type": "code",
   "execution_count": 12,
   "metadata": {},
   "outputs": [],
   "source": [
    "Y_test = Y_test.values"
   ]
  },
  {
   "cell_type": "code",
   "execution_count": 13,
   "metadata": {},
   "outputs": [
    {
     "data": {
      "text/plain": [
       "LogisticRegression(C=5, class_weight=None, dual=False, fit_intercept=True,\n",
       "          intercept_scaling=1, max_iter=100, multi_class='ovr', n_jobs=1,\n",
       "          penalty='l2', random_state=None, solver='sag', tol=0.0001,\n",
       "          verbose=0, warm_start=False)"
      ]
     },
     "execution_count": 13,
     "metadata": {},
     "output_type": "execute_result"
    }
   ],
   "source": [
    "model = linear_model.LogisticRegression(C=5, solver='sag')\n",
    "model.fit(train_tfidf, Y_train)"
   ]
  },
  {
   "cell_type": "code",
   "execution_count": 14,
   "metadata": {},
   "outputs": [
    {
     "data": {
      "text/plain": [
       "array([0, 0, 0, ..., 0, 0, 0], dtype=int64)"
      ]
     },
     "execution_count": 14,
     "metadata": {},
     "output_type": "execute_result"
    }
   ],
   "source": [
    "Y_pred_ = model.predict(test_tfidf)\n",
    "Y_pred_"
   ]
  },
  {
   "cell_type": "code",
   "execution_count": 15,
   "metadata": {},
   "outputs": [
    {
     "data": {
      "text/plain": [
       "0.7900414937759336"
      ]
     },
     "execution_count": 15,
     "metadata": {},
     "output_type": "execute_result"
    }
   ],
   "source": [
    "metrics.f1_score(Y_test, Y_pred_)"
   ]
  },
  {
   "cell_type": "code",
   "execution_count": 16,
   "metadata": {},
   "outputs": [
    {
     "data": {
      "image/png": "[encoded data removed]",
      "text/plain": [
       "<Figure size 432x288 with 2 Axes>"
      ]
     },
     "metadata": {
      "needs_background": "light"
     },
     "output_type": "display_data"
    }
   ],
   "source": [
    "from sklearn.metrics import confusion_matrix\n",
    "ax= plt.subplot()\n",
    "sns.heatmap(confusion_matrix(Y_test, Y_pred_), annot=True, ax = ax, fmt='g')\n",
    "# labels, title and ticks\n",
    "ax.set_xlabel('Predicted labels');ax.set_ylabel('True labels'); \n",
    "ax.set_title('Confusion Matrix'); \n",
    "ax.xaxis.set_ticklabels([ 'Sincere', 'InSincere']); \n",
    "ax.yaxis.set_ticklabels(['Sincere', 'InSincere']);"
   ]
  },
  {
   "cell_type": "markdown",
   "metadata": {},
   "source": [
    "Getting the best threshold based on test set "
   ]
  },
  {
   "cell_type": "code",
   "execution_count": 17,
   "metadata": {},
   "outputs": [
    {
     "data": {
      "text/plain": [
       "array([0.11481361, 0.3053329 , 0.05454121, ..., 0.08432779, 0.01435933,\n",
       "       0.01512414])"
      ]
     },
     "execution_count": 17,
     "metadata": {},
     "output_type": "execute_result"
    }
   ],
   "source": [
    "Y_pred = model.predict_proba(test_tfidf)[:,1]\n",
    "Y_pred"
   ]
  },
  {
   "cell_type": "code",
   "execution_count": 18,
   "metadata": {},
   "outputs": [
    {
     "name": "stdout",
     "output_type": "stream",
     "text": [
      "F1 score at threshold 0.1 is 0.7131101341449667\n",
      "F1 score at threshold 0.12 is 0.7438995498696991\n",
      "F1 score at threshold 0.14 is 0.7654503010197813\n",
      "F1 score at threshold 0.16 is 0.7802350562365727\n",
      "F1 score at threshold 0.18 is 0.7932291666666665\n",
      "F1 score at threshold 0.2 is 0.8024986709197235\n",
      "F1 score at threshold 0.22 is 0.8108621860149355\n",
      "F1 score at threshold 0.24 is 0.8174757281553398\n",
      "F1 score at threshold 0.26 is 0.8219332956472584\n",
      "F1 score at threshold 0.28 is 0.8253877082136704\n",
      "F1 score at threshold 0.3 is 0.8241132681360386\n",
      "F1 score at threshold 0.32 is 0.8222024339566637\n",
      "F1 score at threshold 0.34 is 0.8233173076923077\n",
      "F1 score at threshold 0.36 is 0.819926873857404\n",
      "F1 score at threshold 0.38 is 0.8157528957528957\n",
      "F1 score at threshold 0.4 is 0.8109631949882538\n",
      "F1 score at threshold 0.42 is 0.8084230525649145\n",
      "F1 score at threshold 0.44 is 0.8054356514788168\n",
      "F1 score at threshold 0.46 is 0.8011639185257032\n",
      "F1 score at threshold 0.48 is 0.7967905682004257\n",
      "F1 score at threshold 0.5 is 0.7900414937759336\n",
      "F1 score at threshold 0.52 is 0.7824035058149335\n",
      "F1 score at threshold 0.54 is 0.7739948674080409\n",
      "F1 score at threshold 0.56 is 0.7641853201457575\n",
      "F1 score at threshold 0.58 is 0.7539710554182846\n"
     ]
    }
   ],
   "source": [
    "for thresh in np.arange(0.1, 0.60, 0.02):\n",
    "    thresh = np.round(thresh, 2)\n",
    "    print(\"F1 score at threshold {0} is {1}\".format(thresh, metrics.f1_score(Y_test, (Y_pred>thresh).astype(int))))"
   ]
  },
  {
   "cell_type": "markdown",
   "metadata": {},
   "source": [
    "So we are getting a better F1 score of 0.824 for this model at 0.3!"
   ]
  }
 ],
 "metadata": {
  "kernelspec": {
   "display_name": "Python 3",
   "language": "python",
   "name": "python3"
  },
  "language_info": {
   "codemirror_mode": {
    "name": "ipython",
    "version": 3
   },
   "file_extension": ".py",
   "mimetype": "text/x-python",
   "name": "python",
   "nbconvert_exporter": "python",
   "pygments_lexer": "ipython3",
   "version": "3.6.5"
  }
 },
 "nbformat": 4,
 "nbformat_minor": 2
}
