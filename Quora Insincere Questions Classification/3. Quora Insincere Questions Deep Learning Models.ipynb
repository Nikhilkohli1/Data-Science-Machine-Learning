{
 "cells": [
  {
   "cell_type": "markdown",
   "metadata": {},
   "source": [
    "## Quora Insincere Question Classification"
   ]
  },
  {
   "cell_type": "markdown",
   "metadata": {},
   "source": [
    "### Abstract \n",
    "\n",
    "The objective is to predict whether a question asked on Quora is sincere or not.\n",
    "An insincere question is defined as a question intended to make a statement rather than look for helpful answers. Some characteristics that can signify that a question is insincere:\n",
    "\n",
    "- Has a non-neutral tone\n",
    "- Has an exaggerated tone to underscore a point about a group of people\n",
    "- Is rhetorical and meant to imply a statement about a group of people\n",
    "- Is disparaging or inflammatory\n",
    "- Suggests a discriminatory idea against a protected class of people, or seeks confirmation of a stereotype\n",
    "- Makes disparaging attacks/insults against a specific person or group of people\n",
    "\n",
    "### Part A - Deep Learning model\n",
    "\n",
    "I will try various Deep Learning Algorithms to see which works best of this dataset like LSTM, Conv1D, GRU etc. I will also use pre-trained word embeddings in few algorithms. As a baseline, I will use Logistic regression.\n",
    "\n",
    "Deep Learning Models - \n",
    "\n",
    "- LSTM\n",
    "- GRU \n",
    "- Conv1D\n",
    "- Bidirectional GRU\n",
    "- Pretrained Embeddings (Wiki Fast Text)\n",
    "- Bidirectional LSTM"
   ]
  },
  {
   "cell_type": "code",
   "execution_count": 2,
   "metadata": {},
   "outputs": [],
   "source": [
    "import pandas as pd\n",
    "import numpy as np\n",
    "import matplotlib.pyplot as plt\n",
    "import os\n",
    "import seaborn as sns\n",
    "import time, gc, warnings\n",
    "\n",
    "import re\n",
    "import string\n",
    "from nltk.corpus import stopwords\n",
    "from nltk.stem.wordnet import WordNetLemmatizer \n",
    "from nltk.tokenize import TweetTokenizer\n",
    "\n",
    "\n",
    "from sklearn.model_selection import train_test_split\n",
    "from sklearn import metrics\n",
    "from sklearn.feature_extraction.text import TfidfVectorizer, CountVectorizer\n",
    "from sklearn.model_selection import GridSearchCV\n",
    "\n",
    "from keras.preprocessing.text import Tokenizer\n",
    "from keras.preprocessing.sequence import pad_sequences\n",
    "from keras.layers import Dense, Input, LSTM, Embedding, Dropout, Activation\n",
    "from keras.layers import Bidirectional, GlobalMaxPool1D, Conv1D, GRU, SimpleRNN\n",
    "from keras.models import Model\n",
    "from keras.models import Sequential\n",
    "from keras.layers import Flatten, MaxPooling1D, GlobalMaxPooling1D, BatchNormalization, SpatialDropout1D\n",
    "from keras.layers.embeddings import Embedding\n",
    "from keras import initializers, regularizers, constraints, optimizers, layers\n",
    "\n",
    "from wordcloud import WordCloud, STOPWORDS\n",
    "\n",
    "np.random.seed(42)\n",
    "warnings.filterwarnings(\"ignore\")\n",
    "stop_words = set(stopwords.words(\"english\"))\n",
    "punctuations = string.punctuation\n",
    "\n",
    "%matplotlib inline"
   ]
  },
  {
   "cell_type": "code",
   "execution_count": 3,
   "metadata": {},
   "outputs": [],
   "source": [
    "os.chdir(r'N:\\ADVANCE DATA SCIENCE\\ASSIGNMENTS\\Assignment 3')"
   ]
  },
  {
   "cell_type": "code",
   "execution_count": 4,
   "metadata": {},
   "outputs": [],
   "source": [
    "df_Quora = pd.read_csv('quora_questions_.csv')"
   ]
  },
  {
   "cell_type": "code",
   "execution_count": 5,
   "metadata": {},
   "outputs": [
    {
     "data": {
      "text/plain": [
       "(93590, 3)"
      ]
     },
     "execution_count": 5,
     "metadata": {},
     "output_type": "execute_result"
    }
   ],
   "source": [
    "df_Quora.shape"
   ]
  },
  {
   "cell_type": "code",
   "execution_count": 6,
   "metadata": {},
   "outputs": [
    {
     "data": {
      "text/html": [
       "<div>\n",
       "<style scoped>\n",
       "    .dataframe tbody tr th:only-of-type {\n",
       "        vertical-align: middle;\n",
       "    }\n",
       "\n",
       "    .dataframe tbody tr th {\n",
       "        vertical-align: top;\n",
       "    }\n",
       "\n",
       "    .dataframe thead th {\n",
       "        text-align: right;\n",
       "    }\n",
       "</style>\n",
       "<table border=\"1\" class=\"dataframe\">\n",
       "  <thead>\n",
       "    <tr style=\"text-align: right;\">\n",
       "      <th></th>\n",
       "      <th>qid</th>\n",
       "      <th>question_text</th>\n",
       "      <th>target</th>\n",
       "    </tr>\n",
       "  </thead>\n",
       "  <tbody>\n",
       "    <tr>\n",
       "      <th>0</th>\n",
       "      <td>69d762db89f677e2b38d</td>\n",
       "      <td>How can I live fully happier life?</td>\n",
       "      <td>0</td>\n",
       "    </tr>\n",
       "    <tr>\n",
       "      <th>1</th>\n",
       "      <td>de052885a7cb6483c482</td>\n",
       "      <td>What is the difference between IT and computer...</td>\n",
       "      <td>0</td>\n",
       "    </tr>\n",
       "    <tr>\n",
       "      <th>2</th>\n",
       "      <td>5cf30b565aa71a3ce65c</td>\n",
       "      <td>Why a suit is the dress code of business people?</td>\n",
       "      <td>0</td>\n",
       "    </tr>\n",
       "    <tr>\n",
       "      <th>3</th>\n",
       "      <td>a2483d6b6debff584f87</td>\n",
       "      <td>How can you get the earnest money loan for a b...</td>\n",
       "      <td>0</td>\n",
       "    </tr>\n",
       "    <tr>\n",
       "      <th>4</th>\n",
       "      <td>c93fef8401e553bbee16</td>\n",
       "      <td>Why would an atheist care if others celebrate ...</td>\n",
       "      <td>0</td>\n",
       "    </tr>\n",
       "  </tbody>\n",
       "</table>\n",
       "</div>"
      ],
      "text/plain": [
       "                    qid                                      question_text  \\\n",
       "0  69d762db89f677e2b38d                 How can I live fully happier life?   \n",
       "1  de052885a7cb6483c482  What is the difference between IT and computer...   \n",
       "2  5cf30b565aa71a3ce65c   Why a suit is the dress code of business people?   \n",
       "3  a2483d6b6debff584f87  How can you get the earnest money loan for a b...   \n",
       "4  c93fef8401e553bbee16  Why would an atheist care if others celebrate ...   \n",
       "\n",
       "   target  \n",
       "0       0  \n",
       "1       0  \n",
       "2       0  \n",
       "3       0  \n",
       "4       0  "
      ]
     },
     "execution_count": 6,
     "metadata": {},
     "output_type": "execute_result"
    }
   ],
   "source": [
    "df_Quora[df_Quora.target == 0].head(5)"
   ]
  },
  {
   "cell_type": "code",
   "execution_count": 7,
   "metadata": {},
   "outputs": [
    {
     "data": {
      "text/html": [
       "<div>\n",
       "<style scoped>\n",
       "    .dataframe tbody tr th:only-of-type {\n",
       "        vertical-align: middle;\n",
       "    }\n",
       "\n",
       "    .dataframe tbody tr th {\n",
       "        vertical-align: top;\n",
       "    }\n",
       "\n",
       "    .dataframe thead th {\n",
       "        text-align: right;\n",
       "    }\n",
       "</style>\n",
       "<table border=\"1\" class=\"dataframe\">\n",
       "  <thead>\n",
       "    <tr style=\"text-align: right;\">\n",
       "      <th></th>\n",
       "      <th>qid</th>\n",
       "      <th>question_text</th>\n",
       "      <th>target</th>\n",
       "    </tr>\n",
       "  </thead>\n",
       "  <tbody>\n",
       "    <tr>\n",
       "      <th>61266</th>\n",
       "      <td>9d91dabfc5358b6e9b4a</td>\n",
       "      <td>Has Trump (since becoming president), ever com...</td>\n",
       "      <td>1</td>\n",
       "    </tr>\n",
       "    <tr>\n",
       "      <th>61267</th>\n",
       "      <td>cafdbedf2152a331cf88</td>\n",
       "      <td>Why Turkish people and Iranians look white des...</td>\n",
       "      <td>1</td>\n",
       "    </tr>\n",
       "    <tr>\n",
       "      <th>61268</th>\n",
       "      <td>877e654f6097f6dde056</td>\n",
       "      <td>Do Hungarians envy Romania, because they are b...</td>\n",
       "      <td>1</td>\n",
       "    </tr>\n",
       "    <tr>\n",
       "      <th>61269</th>\n",
       "      <td>341b769d29966cae4b16</td>\n",
       "      <td>I just got a message that my answer had been \"...</td>\n",
       "      <td>1</td>\n",
       "    </tr>\n",
       "    <tr>\n",
       "      <th>61270</th>\n",
       "      <td>136b7b3b0dc24a6256c0</td>\n",
       "      <td>What does black man cum taste like?</td>\n",
       "      <td>1</td>\n",
       "    </tr>\n",
       "  </tbody>\n",
       "</table>\n",
       "</div>"
      ],
      "text/plain": [
       "                        qid  \\\n",
       "61266  9d91dabfc5358b6e9b4a   \n",
       "61267  cafdbedf2152a331cf88   \n",
       "61268  877e654f6097f6dde056   \n",
       "61269  341b769d29966cae4b16   \n",
       "61270  136b7b3b0dc24a6256c0   \n",
       "\n",
       "                                           question_text  target  \n",
       "61266  Has Trump (since becoming president), ever com...       1  \n",
       "61267  Why Turkish people and Iranians look white des...       1  \n",
       "61268  Do Hungarians envy Romania, because they are b...       1  \n",
       "61269  I just got a message that my answer had been \"...       1  \n",
       "61270                What does black man cum taste like?       1  "
      ]
     },
     "execution_count": 7,
     "metadata": {},
     "output_type": "execute_result"
    }
   ],
   "source": [
    "df_Quora[df_Quora.target == 1].head(5)"
   ]
  },
  {
   "cell_type": "markdown",
   "metadata": {},
   "source": [
    "### Data Pre-processing"
   ]
  },
  {
   "cell_type": "code",
   "execution_count": 8,
   "metadata": {},
   "outputs": [],
   "source": [
    "lem = WordNetLemmatizer()\n",
    "tokenizer = TweetTokenizer()"
   ]
  },
  {
   "cell_type": "code",
   "execution_count": 9,
   "metadata": {},
   "outputs": [],
   "source": [
    "def clean_text(question):\n",
    "    \"\"\"\n",
    "    This function receives comments and returns clean word-list\n",
    "    \"\"\"\n",
    "    question = question.lower()\n",
    "    question = re.sub(\"\\\\n\", \"\", question)\n",
    "    question = re.sub(\"\\'\", \"\", question)\n",
    "    question = re.sub(\"\\W+\", \" \", question)\n",
    "    \n",
    "    #Split the sentences into words\n",
    "    words = tokenizer.tokenize(question)\n",
    "    \n",
    "    words = [lem.lemmatize(word, \"v\") for word in words]\n",
    "    words = [w for w in words if w not in punctuations]\n",
    "    #words = [''.join(x for x in w if x.isalpha()) for w in words]\n",
    "\n",
    "    clean_sen = \" \".join(words)\n",
    "    \n",
    "    return clean_sen"
   ]
  },
  {
   "cell_type": "code",
   "execution_count": 10,
   "metadata": {},
   "outputs": [
    {
     "data": {
      "text/html": [
       "<div>\n",
       "<style scoped>\n",
       "    .dataframe tbody tr th:only-of-type {\n",
       "        vertical-align: middle;\n",
       "    }\n",
       "\n",
       "    .dataframe tbody tr th {\n",
       "        vertical-align: top;\n",
       "    }\n",
       "\n",
       "    .dataframe thead th {\n",
       "        text-align: right;\n",
       "    }\n",
       "</style>\n",
       "<table border=\"1\" class=\"dataframe\">\n",
       "  <thead>\n",
       "    <tr style=\"text-align: right;\">\n",
       "      <th></th>\n",
       "      <th>qid</th>\n",
       "      <th>question_text</th>\n",
       "      <th>target</th>\n",
       "      <th>question_text_</th>\n",
       "    </tr>\n",
       "  </thead>\n",
       "  <tbody>\n",
       "    <tr>\n",
       "      <th>0</th>\n",
       "      <td>69d762db89f677e2b38d</td>\n",
       "      <td>How can I live fully happier life?</td>\n",
       "      <td>0</td>\n",
       "      <td>how can i live fully happier life</td>\n",
       "    </tr>\n",
       "    <tr>\n",
       "      <th>1</th>\n",
       "      <td>de052885a7cb6483c482</td>\n",
       "      <td>What is the difference between IT and computer...</td>\n",
       "      <td>0</td>\n",
       "      <td>what be the difference between it and computer...</td>\n",
       "    </tr>\n",
       "    <tr>\n",
       "      <th>2</th>\n",
       "      <td>5cf30b565aa71a3ce65c</td>\n",
       "      <td>Why a suit is the dress code of business people?</td>\n",
       "      <td>0</td>\n",
       "      <td>why a suit be the dress code of business people</td>\n",
       "    </tr>\n",
       "    <tr>\n",
       "      <th>3</th>\n",
       "      <td>a2483d6b6debff584f87</td>\n",
       "      <td>How can you get the earnest money loan for a b...</td>\n",
       "      <td>0</td>\n",
       "      <td>how can you get the earnest money loan for a b...</td>\n",
       "    </tr>\n",
       "    <tr>\n",
       "      <th>4</th>\n",
       "      <td>c93fef8401e553bbee16</td>\n",
       "      <td>Why would an atheist care if others celebrate ...</td>\n",
       "      <td>0</td>\n",
       "      <td>why would an atheist care if others celebrate ...</td>\n",
       "    </tr>\n",
       "  </tbody>\n",
       "</table>\n",
       "</div>"
      ],
      "text/plain": [
       "                    qid                                      question_text  \\\n",
       "0  69d762db89f677e2b38d                 How can I live fully happier life?   \n",
       "1  de052885a7cb6483c482  What is the difference between IT and computer...   \n",
       "2  5cf30b565aa71a3ce65c   Why a suit is the dress code of business people?   \n",
       "3  a2483d6b6debff584f87  How can you get the earnest money loan for a b...   \n",
       "4  c93fef8401e553bbee16  Why would an atheist care if others celebrate ...   \n",
       "\n",
       "   target                                     question_text_  \n",
       "0       0                  how can i live fully happier life  \n",
       "1       0  what be the difference between it and computer...  \n",
       "2       0    why a suit be the dress code of business people  \n",
       "3       0  how can you get the earnest money loan for a b...  \n",
       "4       0  why would an atheist care if others celebrate ...  "
      ]
     },
     "execution_count": 10,
     "metadata": {},
     "output_type": "execute_result"
    }
   ],
   "source": [
    "df_Quora[\"question_text_\"] = df_Quora[\"question_text\"].apply(lambda question: clean_text(question))\n",
    "df_Quora.head()"
   ]
  },
  {
   "cell_type": "markdown",
   "metadata": {},
   "source": [
    "### Feature Extraction"
   ]
  },
  {
   "cell_type": "code",
   "execution_count": 11,
   "metadata": {},
   "outputs": [],
   "source": [
    "features = df_Quora['question_text_']\n",
    "target = df_Quora['target']"
   ]
  },
  {
   "cell_type": "code",
   "execution_count": 12,
   "metadata": {},
   "outputs": [],
   "source": [
    "df_Quora['num_words'] = df_Quora['question_text_'].apply(lambda x: len(str(x).split()))"
   ]
  },
  {
   "cell_type": "code",
   "execution_count": 13,
   "metadata": {},
   "outputs": [
    {
     "data": {
      "text/plain": [
       "target\n",
       "0    11\n",
       "1    15\n",
       "Name: num_words, dtype: int64"
      ]
     },
     "execution_count": 13,
     "metadata": {},
     "output_type": "execute_result"
    }
   ],
   "source": [
    "df_Quora.groupby(['target']).num_words.median()"
   ]
  },
  {
   "cell_type": "code",
   "execution_count": 15,
   "metadata": {},
   "outputs": [],
   "source": [
    "embed_size = 200     # how big is each word vector\n",
    "max_features = 30000     # how many unique words to use (i.e num rows in embedding vector)\n",
    "maxlen = 100       # max number of words in a question to use"
   ]
  },
  {
   "cell_type": "code",
   "execution_count": 16,
   "metadata": {},
   "outputs": [],
   "source": [
    "tokenizer = Tokenizer(num_words=max_features)\n",
    "tokenizer.fit_on_texts(features) \n",
    "X_features = tokenizer.texts_to_sequences(features)\n",
    "X_features = pad_sequences(X_features, maxlen=maxlen)"
   ]
  },
  {
   "cell_type": "code",
   "execution_count": 17,
   "metadata": {},
   "outputs": [],
   "source": [
    "Y = target"
   ]
  },
  {
   "cell_type": "markdown",
   "metadata": {},
   "source": [
    "### Stratified Split \n",
    "\n",
    "To avoid Sampling Bias due to Random Sampling, I will split the data using Stratifed Split as the 2 output classes are imbalanced. "
   ]
  },
  {
   "cell_type": "code",
   "execution_count": 18,
   "metadata": {},
   "outputs": [],
   "source": [
    "X_train, X_test, Y_train, Y_test = train_test_split(X_features, Y, test_size=0.1, stratify=Y, random_state=100)"
   ]
  },
  {
   "cell_type": "markdown",
   "metadata": {},
   "source": [
    "### LSTM Model"
   ]
  },
  {
   "cell_type": "code",
   "execution_count": 67,
   "metadata": {},
   "outputs": [
    {
     "name": "stdout",
     "output_type": "stream",
     "text": [
      "_________________________________________________________________\n",
      "Layer (type)                 Output Shape              Param #   \n",
      "=================================================================\n",
      "embedding_11 (Embedding)     (None, 100, 300)          9000000   \n",
      "_________________________________________________________________\n",
      "spatial_dropout1d_2 (Spatial (None, 100, 300)          0         \n",
      "_________________________________________________________________\n",
      "lstm_6 (LSTM)                (None, 100, 64)           93440     \n",
      "_________________________________________________________________\n",
      "global_max_pooling1d_8 (Glob (None, 64)                0         \n",
      "_________________________________________________________________\n",
      "dense_18 (Dense)             (None, 1)                 65        \n",
      "=================================================================\n",
      "Total params: 9,093,505\n",
      "Trainable params: 9,093,505\n",
      "Non-trainable params: 0\n",
      "_________________________________________________________________\n"
     ]
    }
   ],
   "source": [
    "model_lstm = Sequential()\n",
    "model_lstm.add(Embedding(max_features, embed_size, input_length=maxlen))\n",
    "model_lstm.add(SpatialDropout1D(0.2))\n",
    "model_lstm.add(LSTM(64, return_sequences=True, recurrent_dropout=0.2, dropout=0.2))\n",
    "model_lstm.add(GlobalMaxPool1D())\n",
    "model_lstm.add(Dense(1, activation='sigmoid'))\n",
    "model_lstm.compile(loss='binary_crossentropy',\n",
    "                  optimizer=optimizers.Adam(lr=0.0001),\n",
    "                  metrics=['accuracy'])\n",
    "\n",
    "model_lstm.summary()"
   ]
  },
  {
   "cell_type": "code",
   "execution_count": 68,
   "metadata": {},
   "outputs": [
    {
     "name": "stdout",
     "output_type": "stream",
     "text": [
      "Train on 84231 samples, validate on 9359 samples\n",
      "Epoch 1/5\n",
      "84231/84231 [==============================] - 569s 7ms/step - loss: 0.5858 - acc: 0.6853 - val_loss: 0.4118 - val_acc: 0.8263\n",
      "Epoch 2/5\n",
      "84231/84231 [==============================] - 563s 7ms/step - loss: 0.3551 - acc: 0.8532 - val_loss: 0.3150 - val_acc: 0.8691\n",
      "Epoch 3/5\n",
      "84231/84231 [==============================] - 603s 7ms/step - loss: 0.2928 - acc: 0.8838 - val_loss: 0.2897 - val_acc: 0.8826\n",
      "Epoch 4/5\n",
      "84231/84231 [==============================] - 599s 7ms/step - loss: 0.2658 - acc: 0.8963 - val_loss: 0.2802 - val_acc: 0.8875\n",
      "Epoch 5/5\n",
      "84231/84231 [==============================] - 650s 8ms/step - loss: 0.2485 - acc: 0.9050 - val_loss: 0.2759 - val_acc: 0.8902\n"
     ]
    }
   ],
   "source": [
    "## Train the LSTM model \n",
    "history_lstm = model_lstm.fit(X_train, Y_train, batch_size=256, epochs=5, validation_data=(X_test, Y_test))"
   ]
  },
  {
   "cell_type": "code",
   "execution_count": 69,
   "metadata": {},
   "outputs": [
    {
     "name": "stdout",
     "output_type": "stream",
     "text": [
      "9359/9359 [==============================] - 26s 3ms/step\n",
      "Test Loss:  0.2759420616477202\n",
      "Test Accuracy 0.8901592050432738\n",
      "dict_keys(['val_loss', 'val_acc', 'loss', 'acc'])\n"
     ]
    },
    {
     "data": {
      "image/png": "[encoded data removed]",
      "text/plain": [
       "<Figure size 432x288 with 1 Axes>"
      ]
     },
     "metadata": {
      "needs_background": "light"
     },
     "output_type": "display_data"
    },
    {
     "data": {
      "image/png": "[encoded data removed]",
      "text/plain": [
       "<Figure size 432x288 with 1 Axes>"
      ]
     },
     "metadata": {
      "needs_background": "light"
     },
     "output_type": "display_data"
    }
   ],
   "source": [
    "import matplotlib.pyplot as plt\n",
    "#print(metrics.accuracy_score(Y_test, Y_predicted))\n",
    "\n",
    "score = model_lstm.evaluate(X_test, Y_test)\n",
    "print('Test Loss: ', score[0])\n",
    "print('Test Accuracy', score[1])\n",
    "\n",
    "\n",
    "# list all data in history\n",
    "print(history_lstm.history.keys())\n",
    "# summarize history for accuracy\n",
    "plt.plot(history_lstm.history['acc'])\n",
    "plt.plot(history_lstm.history['val_acc'])\n",
    "plt.title('Model Accuracy')\n",
    "plt.ylabel('accuracy')\n",
    "plt.xlabel('epoch')\n",
    "plt.legend(['train', 'test'], loc='upper left')\n",
    "plt.show()\n",
    "# summarize history for loss\n",
    "plt.plot(history_lstm.history['loss'])\n",
    "plt.plot(history_lstm.history['val_loss'])\n",
    "plt.title('Model Loss')\n",
    "plt.ylabel('loss')\n",
    "plt.xlabel('epoch')\n",
    "plt.legend(['train', 'test'], loc='upper left')\n",
    "plt.show()"
   ]
  },
  {
   "cell_type": "code",
   "execution_count": 70,
   "metadata": {},
   "outputs": [
    {
     "name": "stdout",
     "output_type": "stream",
     "text": [
      "9359/9359 [==============================] - 15s 2ms/step\n",
      "F1 score at threshold 0.1 is 0.7956072351421187\n",
      "F1 score at threshold 0.12 is 0.8066825775656324\n",
      "F1 score at threshold 0.14 is 0.8152849041317849\n",
      "F1 score at threshold 0.16 is 0.8223197148341103\n",
      "F1 score at threshold 0.18 is 0.8260748959778085\n",
      "F1 score at threshold 0.2 is 0.8316025820937413\n",
      "F1 score at threshold 0.22 is 0.8342776203966007\n",
      "F1 score at threshold 0.24 is 0.8363844393592679\n",
      "F1 score at threshold 0.26 is 0.838141950375072\n",
      "F1 score at threshold 0.28 is 0.8414776032577079\n",
      "F1 score at threshold 0.3 is 0.8445421245421245\n",
      "F1 score at threshold 0.32 is 0.8457227138643068\n",
      "F1 score at threshold 0.34 is 0.8448403860430587\n",
      "F1 score at threshold 0.36 is 0.8445108289768485\n",
      "F1 score at threshold 0.38 is 0.8452864230942716\n",
      "F1 score at threshold 0.4 is 0.8455826640400059\n",
      "F1 score at threshold 0.42 is 0.8437118437118437\n",
      "F1 score at threshold 0.44 is 0.8431402673221693\n",
      "F1 score at threshold 0.46 is 0.8409161250386877\n",
      "F1 score at threshold 0.48 is 0.8403990024937655\n",
      "F1 score at threshold 0.5 is 0.83861852433281\n",
      "F1 score at threshold 0.52 is 0.8349668036674044\n",
      "F1 score at threshold 0.54 is 0.8327243844320891\n",
      "F1 score at threshold 0.56 is 0.8305871060630299\n",
      "F1 score at threshold 0.58 is 0.8306801736613604\n",
      "F1 score at threshold 0.6 is 0.8273404599935212\n",
      "F1 score at threshold 0.62 is 0.8237791932059447\n",
      "F1 score at threshold 0.64 is 0.8196937263296559\n",
      "F1 score at threshold 0.66 is 0.8156146179401994\n",
      "F1 score at threshold 0.68 is 0.8119143239625167\n",
      "F1 score at threshold 0.7 is 0.807070707070707\n"
     ]
    }
   ],
   "source": [
    "Y_pred = model_lstm.predict([X_test], batch_size=256, verbose=1)\n",
    "for thresh in np.arange(0.1, 0.701, 0.02):\n",
    "    thresh = np.round(thresh, 2)\n",
    "    print(\"F1 score at threshold {0} is {1}\".format(thresh, metrics.f1_score(Y_test, (Y_pred>thresh).astype(int))))"
   ]
  },
  {
   "cell_type": "code",
   "execution_count": 71,
   "metadata": {},
   "outputs": [
    {
     "data": {
      "image/png": "[encoded data removed]",
      "text/plain": [
       "<Figure size 432x288 with 2 Axes>"
      ]
     },
     "metadata": {
      "needs_background": "light"
     },
     "output_type": "display_data"
    }
   ],
   "source": [
    "from sklearn.metrics import confusion_matrix\n",
    "ax= plt.subplot()\n",
    "sns.heatmap(confusion_matrix(Y_test, (Y_pred>0.4).astype(int)), annot=True, ax = ax, fmt='g')\n",
    "# labels, title and ticks\n",
    "ax.set_xlabel('Predicted labels');ax.set_ylabel('True labels'); \n",
    "ax.set_title('Confusion Matrix'); \n",
    "ax.xaxis.set_ticklabels([ 'Sincere', 'InSincere']); \n",
    "ax.yaxis.set_ticklabels(['Sincere', 'InSincere']);"
   ]
  },
  {
   "cell_type": "markdown",
   "metadata": {},
   "source": [
    "### Conv1D Model"
   ]
  },
  {
   "cell_type": "code",
   "execution_count": 22,
   "metadata": {},
   "outputs": [
    {
     "name": "stdout",
     "output_type": "stream",
     "text": [
      "_________________________________________________________________\n",
      "Layer (type)                 Output Shape              Param #   \n",
      "=================================================================\n",
      "embedding_2 (Embedding)      (None, 100, 200)          6000000   \n",
      "_________________________________________________________________\n",
      "dropout_2 (Dropout)          (None, 100, 200)          0         \n",
      "_________________________________________________________________\n",
      "conv1d_1 (Conv1D)            (None, 98, 64)            38464     \n",
      "_________________________________________________________________\n",
      "global_max_pooling1d_2 (Glob (None, 64)                0         \n",
      "_________________________________________________________________\n",
      "dense_2 (Dense)              (None, 64)                4160      \n",
      "_________________________________________________________________\n",
      "dropout_3 (Dropout)          (None, 64)                0         \n",
      "_________________________________________________________________\n",
      "dense_3 (Dense)              (None, 1)                 65        \n",
      "=================================================================\n",
      "Total params: 6,042,689\n",
      "Trainable params: 6,042,689\n",
      "Non-trainable params: 0\n",
      "_________________________________________________________________\n"
     ]
    }
   ],
   "source": [
    "filters = 64\n",
    "kernel_size = 3\n",
    "hidden_dims = 64\n",
    "\n",
    "model_conv = Sequential()\n",
    "\n",
    "model_conv.add(Embedding(max_features, \n",
    "                         embed_size,\n",
    "                         input_length=maxlen))\n",
    "model_conv.add(Dropout(0.2))\n",
    "model_conv.add(Conv1D(filters,\n",
    "                 kernel_size,\n",
    "                 padding='valid',\n",
    "                 activation='relu',\n",
    "                 strides=1))\n",
    "# we use max pooling:\n",
    "model_conv.add(GlobalMaxPooling1D())\n",
    "\n",
    "# We add a vanilla hidden layer:\n",
    "model_conv.add(Dense(hidden_dims, activation='relu'))\n",
    "model_conv.add(Dropout(0.2))\n",
    "model_conv.add(Dense(1, activation='sigmoid'))\n",
    "\n",
    "model_conv.compile(loss='binary_crossentropy',\n",
    "                  optimizer='adam',\n",
    "                  metrics=['accuracy'])\n",
    "\n",
    "model_conv.summary()"
   ]
  },
  {
   "cell_type": "code",
   "execution_count": 23,
   "metadata": {},
   "outputs": [
    {
     "name": "stdout",
     "output_type": "stream",
     "text": [
      "Train on 84231 samples, validate on 9359 samples\n",
      "Epoch 1/1\n",
      "84231/84231 [==============================] - 2482s 29ms/step - loss: 0.3562 - acc: 0.8418 - val_loss: 0.2763 - val_acc: 0.8876\n"
     ]
    }
   ],
   "source": [
    "## Train the LSTM model \n",
    "history_conv = model_conv.fit(X_train, Y_train, batch_size=256, epochs=1, validation_data=(X_test, Y_test))"
   ]
  },
  {
   "cell_type": "code",
   "execution_count": 46,
   "metadata": {},
   "outputs": [
    {
     "name": "stdout",
     "output_type": "stream",
     "text": [
      "9359/9359 [==============================] - 2s 250us/step\n",
      "F1 score at threshold 0.1 is 0.7754695857693743\n",
      "F1 score at threshold 0.12 is 0.7896744659206512\n",
      "F1 score at threshold 0.14 is 0.7981900452488688\n",
      "F1 score at threshold 0.16 is 0.8063542076933176\n",
      "F1 score at threshold 0.18 is 0.8120340788072418\n",
      "F1 score at threshold 0.2 is 0.8188190887031546\n",
      "F1 score at threshold 0.22 is 0.8227917121046893\n",
      "F1 score at threshold 0.24 is 0.8255894112780918\n",
      "F1 score at threshold 0.26 is 0.8279225303051415\n",
      "F1 score at threshold 0.28 is 0.8296587557927256\n",
      "F1 score at threshold 0.3 is 0.8333569706424621\n",
      "F1 score at threshold 0.32 is 0.8349514563106796\n",
      "F1 score at threshold 0.34 is 0.8373364015532864\n",
      "F1 score at threshold 0.36 is 0.8391588107324147\n",
      "F1 score at threshold 0.38 is 0.8400933761307265\n",
      "F1 score at threshold 0.4 is 0.8396767083027186\n",
      "F1 score at threshold 0.42 is 0.8415284360189573\n",
      "F1 score at threshold 0.44 is 0.8405365126676604\n",
      "F1 score at threshold 0.46 is 0.8410010490034466\n",
      "F1 score at threshold 0.48 is 0.8401867751167346\n",
      "F1 score at threshold 0.5 is 0.8405577447711428\n",
      "F1 score at threshold 0.52 is 0.8389662027833003\n",
      "F1 score at threshold 0.54 is 0.8390273930440135\n",
      "F1 score at threshold 0.56 is 0.8367980142724171\n",
      "F1 score at threshold 0.58 is 0.8360963403190491\n",
      "F1 score at threshold 0.6 is 0.833937864690112\n",
      "F1 score at threshold 0.62 is 0.8315605651690743\n",
      "F1 score at threshold 0.64 is 0.8297838270616492\n",
      "F1 score at threshold 0.66 is 0.8242149562965361\n",
      "F1 score at threshold 0.68 is 0.8211249182472203\n",
      "F1 score at threshold 0.7 is 0.8156720119027938\n"
     ]
    }
   ],
   "source": [
    "Y_pred = model_conv.predict([X_test], batch_size=256, verbose=1)\n",
    "for thresh in np.arange(0.1, 0.701, 0.02):\n",
    "    thresh = np.round(thresh, 2)\n",
    "    print(\"F1 score at threshold {0} is {1}\".format(thresh, metrics.f1_score(Y_test, (Y_pred>thresh).astype(int))))"
   ]
  },
  {
   "cell_type": "code",
   "execution_count": 47,
   "metadata": {},
   "outputs": [
    {
     "data": {
      "image/png": "[encoded data removed]",
      "text/plain": [
       "<Figure size 432x288 with 2 Axes>"
      ]
     },
     "metadata": {
      "needs_background": "light"
     },
     "output_type": "display_data"
    }
   ],
   "source": [
    "from sklearn.metrics import confusion_matrix\n",
    "ax= plt.subplot()\n",
    "sns.heatmap(confusion_matrix(Y_test, (Y_pred>0.42).astype(int)), annot=True, ax = ax, fmt='g')\n",
    "# labels, title and ticks\n",
    "ax.set_xlabel('Predicted labels');ax.set_ylabel('True labels'); \n",
    "ax.set_title('Confusion Matrix'); \n",
    "ax.xaxis.set_ticklabels([ 'Sincere', 'InSincere']); \n",
    "ax.yaxis.set_ticklabels(['Sincere', 'InSincere']);"
   ]
  },
  {
   "cell_type": "markdown",
   "metadata": {},
   "source": [
    "### Bidirectional GRU"
   ]
  },
  {
   "cell_type": "code",
   "execution_count": 20,
   "metadata": {},
   "outputs": [
    {
     "name": "stdout",
     "output_type": "stream",
     "text": [
      "_________________________________________________________________\n",
      "Layer (type)                 Output Shape              Param #   \n",
      "=================================================================\n",
      "embedding_2 (Embedding)      (None, 100, 200)          6000000   \n",
      "_________________________________________________________________\n",
      "bidirectional_2 (Bidirection (None, 100, 128)          101760    \n",
      "_________________________________________________________________\n",
      "global_max_pooling1d_2 (Glob (None, 128)               0         \n",
      "_________________________________________________________________\n",
      "dense_3 (Dense)              (None, 16)                2064      \n",
      "_________________________________________________________________\n",
      "dropout_2 (Dropout)          (None, 16)                0         \n",
      "_________________________________________________________________\n",
      "dense_4 (Dense)              (None, 1)                 17        \n",
      "=================================================================\n",
      "Total params: 6,103,841\n",
      "Trainable params: 6,103,841\n",
      "Non-trainable params: 0\n",
      "_________________________________________________________________\n"
     ]
    }
   ],
   "source": [
    "from keras.callbacks import ReduceLROnPlateau\n",
    "hidden_dims = 16\n",
    "\n",
    "model_gru = Sequential()\n",
    "\n",
    "model_gru.add(Embedding(max_features, \n",
    "                         embed_size,\n",
    "                         input_length=maxlen))\n",
    "#model_gru.add(Dropout(0.2))\n",
    "model_gru.add(Bidirectional(GRU(64, return_sequences=True)))\n",
    "model_gru.add(GlobalMaxPooling1D())\n",
    "model_gru.add(Dense(hidden_dims, activation='relu'))\n",
    "model_gru.add(Dropout(0.2))\n",
    "model_gru.add(Dense(1, activation='sigmoid'))\n",
    "\n",
    "rlrop = ReduceLROnPlateau(monitor='val_loss', factor=0.1, patience=1)\n",
    "opt = optimizers.SGD(lr=0.01)\n",
    "model_gru.compile(loss='binary_crossentropy',\n",
    "                  optimizer=opt,\n",
    "                  metrics=['accuracy'])\n",
    "\n",
    "model_gru.summary()"
   ]
  },
  {
   "cell_type": "code",
   "execution_count": 21,
   "metadata": {},
   "outputs": [
    {
     "name": "stdout",
     "output_type": "stream",
     "text": [
      "Train on 84231 samples, validate on 9359 samples\n",
      "Epoch 1/5\n",
      "84231/84231 [==============================] - 344s 4ms/step - loss: 0.3490 - acc: 0.8485 - val_loss: 0.2686 - val_acc: 0.8898\n",
      "Epoch 2/5\n",
      "84231/84231 [==============================] - 344s 4ms/step - loss: 0.2408 - acc: 0.9098 - val_loss: 0.2694 - val_acc: 0.8912\n",
      "Epoch 3/5\n",
      "84231/84231 [==============================] - 341s 4ms/step - loss: 0.1870 - acc: 0.9342 - val_loss: 0.2851 - val_acc: 0.8894\n",
      "Epoch 4/5\n",
      "84231/84231 [==============================] - 343s 4ms/step - loss: 0.1772 - acc: 0.9394 - val_loss: 0.2865 - val_acc: 0.8890\n",
      "Epoch 5/5\n",
      "84231/84231 [==============================] - 368s 4ms/step - loss: 0.1758 - acc: 0.9399 - val_loss: 0.2867 - val_acc: 0.8890\n"
     ]
    }
   ],
   "source": [
    "## Train the LSTM model \n",
    "history_gru = model_gru.fit(X_train, Y_train, batch_size=256, epochs=5, validation_data=(X_test, Y_test), callbacks=[rlrop])"
   ]
  },
  {
   "cell_type": "code",
   "execution_count": 22,
   "metadata": {},
   "outputs": [
    {
     "name": "stdout",
     "output_type": "stream",
     "text": [
      "9359/9359 [==============================] - 12s 1ms/step\n",
      "Test Loss:  0.28670144012493004\n",
      "Test Accuracy 0.888983865797628\n",
      "dict_keys(['val_loss', 'val_acc', 'loss', 'acc', 'lr'])\n"
     ]
    },
    {
     "data": {
      "image/png": "[encoded data removed]",
      "text/plain": [
       "<Figure size 432x288 with 1 Axes>"
      ]
     },
     "metadata": {
      "needs_background": "light"
     },
     "output_type": "display_data"
    },
    {
     "data": {
      "image/png": "[encoded data removed]",
      "text/plain": [
       "<Figure size 432x288 with 1 Axes>"
      ]
     },
     "metadata": {
      "needs_background": "light"
     },
     "output_type": "display_data"
    }
   ],
   "source": [
    "import matplotlib.pyplot as plt\n",
    "#print(metrics.accuracy_score(Y_test, Y_predicted))\n",
    "\n",
    "score = model_gru.evaluate(X_test, Y_test)\n",
    "print('Test Loss: ', score[0])\n",
    "print('Test Accuracy', score[1])\n",
    "\n",
    "\n",
    "# list all data in history\n",
    "print(history_gru.history.keys())\n",
    "# summarize history for accuracy\n",
    "plt.plot(history_gru.history['acc'])\n",
    "plt.plot(history_gru.history['val_acc'])\n",
    "plt.title('Model Accuracy')\n",
    "plt.ylabel('accuracy')\n",
    "plt.xlabel('epoch')\n",
    "plt.legend(['train', 'test'], loc='upper left')\n",
    "plt.show()\n",
    "# summarize history for loss\n",
    "plt.plot(history_gru.history['loss'])\n",
    "plt.plot(history_gru.history['val_loss'])\n",
    "plt.title('Model Loss')\n",
    "plt.ylabel('loss')\n",
    "plt.xlabel('epoch')\n",
    "plt.legend(['train', 'test'], loc='upper left')\n",
    "plt.show()"
   ]
  },
  {
   "cell_type": "code",
   "execution_count": 48,
   "metadata": {},
   "outputs": [
    {
     "name": "stdout",
     "output_type": "stream",
     "text": [
      "9359/9359 [==============================] - 15s 2ms/step\n",
      "F1 score at threshold 0.1 is 0.8026899798251512\n",
      "F1 score at threshold 0.12 is 0.8079542359030236\n",
      "F1 score at threshold 0.14 is 0.8122763556289568\n",
      "F1 score at threshold 0.16 is 0.8161335187760779\n",
      "F1 score at threshold 0.18 is 0.8185382245869505\n",
      "F1 score at threshold 0.2 is 0.8187843745593005\n",
      "F1 score at threshold 0.22 is 0.8186469584991471\n",
      "F1 score at threshold 0.24 is 0.8207182715696093\n",
      "F1 score at threshold 0.26 is 0.8217165898617511\n",
      "F1 score at threshold 0.28 is 0.8210770121598147\n",
      "F1 score at threshold 0.3 is 0.8205873800523408\n",
      "F1 score at threshold 0.32 is 0.8208497590889181\n",
      "F1 score at threshold 0.34 is 0.8226138032305433\n",
      "F1 score at threshold 0.36 is 0.8239988177922268\n",
      "F1 score at threshold 0.38 is 0.8235468564650059\n",
      "F1 score at threshold 0.4 is 0.8245979749851102\n",
      "F1 score at threshold 0.42 is 0.8252166118912458\n",
      "F1 score at threshold 0.44 is 0.8252631578947368\n",
      "F1 score at threshold 0.46 is 0.8246302444913975\n",
      "F1 score at threshold 0.48 is 0.8242956679794001\n",
      "F1 score at threshold 0.5 is 0.8243531202435311\n",
      "F1 score at threshold 0.52 is 0.8239792017128001\n",
      "F1 score at threshold 0.54 is 0.8240897219234906\n",
      "F1 score at threshold 0.56 is 0.8240012339966065\n",
      "F1 score at threshold 0.58 is 0.8245125348189415\n",
      "F1 score at threshold 0.6 is 0.823730392918155\n"
     ]
    }
   ],
   "source": [
    "Y_pred = model_gru.predict([X_test], batch_size=256, verbose=1)\n",
    "for thresh in np.arange(0.1, 0.601, 0.02):\n",
    "    thresh = np.round(thresh, 2)\n",
    "    print(\"F1 score at threshold {0} is {1}\".format(thresh, metrics.f1_score(Y_test, (Y_pred>thresh).astype(int))))"
   ]
  },
  {
   "cell_type": "code",
   "execution_count": 49,
   "metadata": {},
   "outputs": [
    {
     "data": {
      "image/png": "[encoded data removed]",
      "text/plain": [
       "<Figure size 432x288 with 2 Axes>"
      ]
     },
     "metadata": {
      "needs_background": "light"
     },
     "output_type": "display_data"
    }
   ],
   "source": [
    "from sklearn.metrics import confusion_matrix\n",
    "ax= plt.subplot()\n",
    "sns.heatmap(confusion_matrix(Y_test, (Y_pred>0.44).astype(int)), annot=True, ax = ax, fmt='g')\n",
    "# labels, title and ticks\n",
    "ax.set_xlabel('Predicted labels');ax.set_ylabel('True labels'); \n",
    "ax.set_title('Confusion Matrix'); \n",
    "ax.xaxis.set_ticklabels([ 'Sincere', 'InSincere']); \n",
    "ax.yaxis.set_ticklabels(['Sincere', 'InSincere']);"
   ]
  },
  {
   "cell_type": "markdown",
   "metadata": {},
   "source": [
    "### Wiki News FastText Embeddings\n",
    "\n",
    "Now let us use the FastText embeddings trained on Wiki News corpus"
   ]
  },
  {
   "cell_type": "code",
   "execution_count": 23,
   "metadata": {},
   "outputs": [],
   "source": [
    "EMBEDDING_FILE = 'wiki-news-300d-1M.vec'\n",
    "\n",
    "def get_coefs(word,*arr):\n",
    "    return word, np.asarray(arr, dtype='float32')\n",
    "\n",
    "embeddings_index = dict(get_coefs(*o.split(\" \")) \n",
    "                        for o in open(EMBEDDING_FILE, encoding=\"utf-8\") if len(o)>100)\n",
    "\n",
    "all_embs = np.stack(embeddings_index.values())\n",
    "emb_mean,emb_std = all_embs.mean(), all_embs.std()\n",
    "embed_size = all_embs.shape[1]\n",
    "\n",
    "word_index = tokenizer.word_index\n",
    "nb_words = min(max_features, len(word_index))\n",
    "embedding_matrix = np.random.normal(emb_mean, emb_std, (nb_words, embed_size))\n",
    "\n",
    "for word, i in word_index.items():\n",
    "    if i >= max_features:\n",
    "        continue\n",
    "    embedding_vector = embeddings_index.get(word)\n",
    "    if embedding_vector is not None:\n",
    "        embedding_matrix[i] = embedding_vector\n",
    "        "
   ]
  },
  {
   "cell_type": "code",
   "execution_count": 25,
   "metadata": {},
   "outputs": [
    {
     "name": "stdout",
     "output_type": "stream",
     "text": [
      "_________________________________________________________________\n",
      "Layer (type)                 Output Shape              Param #   \n",
      "=================================================================\n",
      "input_2 (InputLayer)         (None, 100)               0         \n",
      "_________________________________________________________________\n",
      "embedding_4 (Embedding)      (None, 100, 300)          9000000   \n",
      "_________________________________________________________________\n",
      "bidirectional_4 (Bidirection (None, 100, 128)          140160    \n",
      "_________________________________________________________________\n",
      "global_max_pooling1d_4 (Glob (None, 128)               0         \n",
      "_________________________________________________________________\n",
      "dense_7 (Dense)              (None, 16)                2064      \n",
      "_________________________________________________________________\n",
      "dropout_4 (Dropout)          (None, 16)                0         \n",
      "_________________________________________________________________\n",
      "dense_8 (Dense)              (None, 1)                 17        \n",
      "=================================================================\n",
      "Total params: 9,142,241\n",
      "Trainable params: 9,142,241\n",
      "Non-trainable params: 0\n",
      "_________________________________________________________________\n"
     ]
    }
   ],
   "source": [
    "inp = Input(shape=(maxlen,))\n",
    "x = Embedding(max_features, embed_size, weights=[embedding_matrix])(inp)\n",
    "x = Bidirectional(GRU(64, return_sequences=True))(x)\n",
    "x = GlobalMaxPool1D()(x)\n",
    "x = Dense(16, activation=\"relu\")(x)\n",
    "x = Dropout(0.2)(x)\n",
    "x = Dense(1, activation=\"sigmoid\")(x)\n",
    "model_Wiki = Model(inputs=inp, outputs=x)\n",
    "model_Wiki.compile(loss='binary_crossentropy', optimizer=optimizers.Adam(lr=0.00001), metrics=['accuracy'])\n",
    "\n",
    "model_Wiki.summary()"
   ]
  },
  {
   "cell_type": "code",
   "execution_count": 26,
   "metadata": {},
   "outputs": [
    {
     "name": "stdout",
     "output_type": "stream",
     "text": [
      "Train on 84231 samples, validate on 9359 samples\n",
      "Epoch 1/5\n",
      "84231/84231 [==============================] - 661s 8ms/step - loss: 0.6352 - acc: 0.6550 - val_loss: 0.6062 - val_acc: 0.6547\n",
      "Epoch 2/5\n",
      "84231/84231 [==============================] - 651s 8ms/step - loss: 0.5811 - acc: 0.6781 - val_loss: 0.5485 - val_acc: 0.7009\n",
      "Epoch 3/5\n",
      "84231/84231 [==============================] - 634s 8ms/step - loss: 0.5132 - acc: 0.7692 - val_loss: 0.4716 - val_acc: 0.8049\n",
      "Epoch 4/5\n",
      "84231/84231 [==============================] - 609s 7ms/step - loss: 0.4384 - acc: 0.8271 - val_loss: 0.3977 - val_acc: 0.8459\n",
      "Epoch 5/5\n",
      "84231/84231 [==============================] - 611s 7ms/step - loss: 0.3743 - acc: 0.8514 - val_loss: 0.3460 - val_acc: 0.8577\n"
     ]
    }
   ],
   "source": [
    "## Train the LSTM model \n",
    "history_wiki = model_Wiki.fit(X_train, Y_train, batch_size=128, epochs=5, validation_data=(X_test, Y_test))"
   ]
  },
  {
   "cell_type": "code",
   "execution_count": 27,
   "metadata": {},
   "outputs": [
    {
     "name": "stdout",
     "output_type": "stream",
     "text": [
      "9359/9359 [==============================] - 14s 1ms/step\n",
      "Test Loss:  0.34595609111037695\n",
      "Test Accuracy 0.8576771022545143\n",
      "dict_keys(['val_loss', 'val_acc', 'loss', 'acc'])\n"
     ]
    },
    {
     "data": {
      "image/png": "[encoded data removed]",
      "text/plain": [
       "<Figure size 432x288 with 1 Axes>"
      ]
     },
     "metadata": {
      "needs_background": "light"
     },
     "output_type": "display_data"
    },
    {
     "data": {
      "image/png": "[encoded data removed]",
      "text/plain": [
       "<Figure size 432x288 with 1 Axes>"
      ]
     },
     "metadata": {
      "needs_background": "light"
     },
     "output_type": "display_data"
    }
   ],
   "source": [
    "import matplotlib.pyplot as plt\n",
    "#print(metrics.accuracy_score(Y_test, Y_predicted))\n",
    "\n",
    "score = model_Wiki.evaluate(X_test, Y_test)\n",
    "print('Test Loss: ', score[0])\n",
    "print('Test Accuracy', score[1])\n",
    "\n",
    "\n",
    "# list all data in history\n",
    "print(history_wiki.history.keys())\n",
    "# summarize history for accuracy\n",
    "plt.plot(history_wiki.history['acc'])\n",
    "plt.plot(history_wiki.history['val_acc'])\n",
    "plt.title('Model Accuracy')\n",
    "plt.ylabel('accuracy')\n",
    "plt.xlabel('epoch')\n",
    "plt.legend(['train', 'test'], loc='upper left')\n",
    "plt.show()\n",
    "# summarize history for loss\n",
    "plt.plot(history_wiki.history['loss'])\n",
    "plt.plot(history_wiki.history['val_loss'])\n",
    "plt.title('Model Loss')\n",
    "plt.ylabel('loss')\n",
    "plt.xlabel('epoch')\n",
    "plt.legend(['train', 'test'], loc='upper left')\n",
    "plt.show()"
   ]
  },
  {
   "cell_type": "code",
   "execution_count": 28,
   "metadata": {},
   "outputs": [
    {
     "name": "stdout",
     "output_type": "stream",
     "text": [
      "9359/9359 [==============================] - 12s 1ms/step\n",
      "F1 score at threshold 0.1 is 0.6660367454068242\n",
      "F1 score at threshold 0.12 is 0.6942366915970084\n",
      "F1 score at threshold 0.14 is 0.716111364673665\n",
      "F1 score at threshold 0.16 is 0.7324540744229864\n",
      "F1 score at threshold 0.18 is 0.7484826414178198\n",
      "F1 score at threshold 0.2 is 0.7581308411214954\n",
      "F1 score at threshold 0.22 is 0.7695652173913043\n",
      "F1 score at threshold 0.24 is 0.7777196652719665\n",
      "F1 score at threshold 0.26 is 0.7843241802186083\n",
      "F1 score at threshold 0.28 is 0.7916270218839201\n",
      "F1 score at threshold 0.3 is 0.794562352614787\n",
      "F1 score at threshold 0.32 is 0.7985316956092052\n",
      "F1 score at threshold 0.34 is 0.800975749748888\n",
      "F1 score at threshold 0.36 is 0.7994730679156908\n",
      "F1 score at threshold 0.38 is 0.8011262596324836\n",
      "F1 score at threshold 0.4 is 0.8019294543261983\n",
      "F1 score at threshold 0.42 is 0.7988955361251726\n",
      "F1 score at threshold 0.44 is 0.7960680293337493\n",
      "F1 score at threshold 0.46 is 0.7933596837944664\n",
      "F1 score at threshold 0.48 is 0.7894905479013137\n",
      "F1 score at threshold 0.5 is 0.7831325301204819\n",
      "F1 score at threshold 0.52 is 0.7768211920529802\n",
      "F1 score at threshold 0.54 is 0.7701612903225806\n",
      "F1 score at threshold 0.56 is 0.7615463564830653\n",
      "F1 score at threshold 0.58 is 0.7533054975643702\n",
      "F1 score at threshold 0.6 is 0.7404905794525418\n",
      "F1 score at threshold 0.62 is 0.7268451519536904\n",
      "F1 score at threshold 0.64 is 0.7136011795060818\n",
      "F1 score at threshold 0.66 is 0.6946220383602858\n",
      "F1 score at threshold 0.68 is 0.6751298326601269\n",
      "F1 score at threshold 0.7 is 0.6584265254071022\n"
     ]
    }
   ],
   "source": [
    "Y_pred = model_Wiki.predict([X_test], batch_size=128, verbose=1)\n",
    "for thresh in np.arange(0.1, 0.701, 0.02):\n",
    "    thresh = np.round(thresh, 2)\n",
    "    print(\"F1 score at threshold {0} is {1}\".format(thresh, metrics.f1_score(Y_test, (Y_pred>thresh).astype(int))))"
   ]
  },
  {
   "cell_type": "code",
   "execution_count": 29,
   "metadata": {},
   "outputs": [
    {
     "data": {
      "image/png": "[encoded data removed]",
      "text/plain": [
       "<Figure size 432x288 with 2 Axes>"
      ]
     },
     "metadata": {
      "needs_background": "light"
     },
     "output_type": "display_data"
    }
   ],
   "source": [
    "from sklearn.metrics import confusion_matrix\n",
    "ax= plt.subplot()\n",
    "sns.heatmap(confusion_matrix(Y_test, (Y_pred>0.4).astype(int)), annot=True, ax = ax, fmt='g')\n",
    "# labels, title and ticks\n",
    "ax.set_xlabel('Predicted labels');ax.set_ylabel('True labels'); \n",
    "ax.set_title('Confusion Matrix'); \n",
    "ax.xaxis.set_ticklabels([ 'Sincere', 'InSincere']); \n",
    "ax.yaxis.set_ticklabels(['Sincere', 'InSincere']);"
   ]
  },
  {
   "cell_type": "code",
   "execution_count": null,
   "metadata": {},
   "outputs": [],
   "source": []
  },
  {
   "cell_type": "markdown",
   "metadata": {},
   "source": [
    "### Wiki News with Bidirectional LSTM"
   ]
  },
  {
   "cell_type": "code",
   "execution_count": 83,
   "metadata": {},
   "outputs": [],
   "source": [
    "model_Wiki_L = Sequential()\n",
    "model_Wiki_L.add(Embedding(max_features, embed_size, input_length=maxlen, weights=[embedding_matrix]))\n",
    "#model_Wiki_L.add(SpatialDropout1D(0.2))\n",
    "model_Wiki_L.add(Bidirectional(LSTM(32, return_sequences=True, dropout=0.2, recurrent_dropout=0.2)))\n",
    "#model_Wiki_L.add(BatchNormalization())\n",
    "model_Wiki_L.add(GlobalMaxPool1D())\n",
    "model_Wiki_L.add(Dense(16, activation='relu'))\n",
    "model_Wiki_L.add(Dropout(0.3))\n",
    "model_Wiki_L.add(Dense(1, activation='sigmoid'))\n",
    "\n",
    "opt = optimizers.Adam(lr=0.0004)\n",
    "model_Wiki_L.compile(loss='binary_crossentropy',\n",
    "                  optimizer=opt,\n",
    "                  metrics=['accuracy'])\n"
   ]
  },
  {
   "cell_type": "code",
   "execution_count": 84,
   "metadata": {},
   "outputs": [
    {
     "name": "stdout",
     "output_type": "stream",
     "text": [
      "Train on 84231 samples, validate on 9359 samples\n",
      "Epoch 1/5\n",
      "84231/84231 [==============================] - 860s 10ms/step - loss: 0.3577 - acc: 0.8481 - val_loss: 0.2661 - val_acc: 0.8923\n",
      "Epoch 2/5\n",
      "84231/84231 [==============================] - 783s 9ms/step - loss: 0.2549 - acc: 0.9040 - val_loss: 0.2593 - val_acc: 0.8952\n",
      "Epoch 3/5\n",
      "84231/84231 [==============================] - 798s 9ms/step - loss: 0.2279 - acc: 0.9157 - val_loss: 0.2655 - val_acc: 0.8918\n",
      "Epoch 4/5\n",
      "84231/84231 [==============================] - 811s 10ms/step - loss: 0.2084 - acc: 0.9243 - val_loss: 0.2794 - val_acc: 0.8926\n",
      "Epoch 5/5\n",
      "84231/84231 [==============================] - 866s 10ms/step - loss: 0.1901 - acc: 0.9312 - val_loss: 0.2914 - val_acc: 0.8855\n"
     ]
    }
   ],
   "source": [
    "## Train the LSTM model \n",
    "history_wiki_L = model_Wiki_L.fit(X_train, Y_train, batch_size=128, epochs=5, validation_data=(X_test, Y_test))"
   ]
  },
  {
   "cell_type": "code",
   "execution_count": 85,
   "metadata": {},
   "outputs": [
    {
     "name": "stdout",
     "output_type": "stream",
     "text": [
      "9359/9359 [==============================] - 44s 5ms/step\n",
      "Test Loss:  0.2914066556405277\n",
      "Test Accuracy 0.885457848067059\n",
      "dict_keys(['val_loss', 'val_acc', 'loss', 'acc'])\n"
     ]
    },
    {
     "data": {
      "image/png": "[encoded data removed]",
      "text/plain": [
       "<Figure size 432x288 with 1 Axes>"
      ]
     },
     "metadata": {
      "needs_background": "light"
     },
     "output_type": "display_data"
    },
    {
     "data": {
      "image/png": "[encoded data removed]",
      "text/plain": [
       "<Figure size 432x288 with 1 Axes>"
      ]
     },
     "metadata": {
      "needs_background": "light"
     },
     "output_type": "display_data"
    }
   ],
   "source": [
    "import matplotlib.pyplot as plt\n",
    "#print(metrics.accuracy_score(Y_test, Y_predicted))\n",
    "\n",
    "score = model_Wiki_L.evaluate(X_test, Y_test)\n",
    "print('Test Loss: ', score[0])\n",
    "print('Test Accuracy', score[1])\n",
    "\n",
    "\n",
    "# list all data in history\n",
    "print(history_wiki_L.history.keys())\n",
    "# summarize history for accuracy\n",
    "plt.plot(history_wiki_L.history['acc'])\n",
    "plt.plot(history_wiki_L.history['val_acc'])\n",
    "plt.title('Model Accuracy')\n",
    "plt.ylabel('accuracy')\n",
    "plt.xlabel('epoch')\n",
    "plt.legend(['train', 'test'], loc='upper left')\n",
    "plt.show()\n",
    "# summarize history for loss\n",
    "plt.plot(history_wiki_L.history['loss'])\n",
    "plt.plot(history_wiki_L.history['val_loss'])\n",
    "plt.title('Model Loss')\n",
    "plt.ylabel('loss')\n",
    "plt.xlabel('epoch')\n",
    "plt.legend(['train', 'test'], loc='upper left')\n",
    "plt.show()"
   ]
  },
  {
   "cell_type": "code",
   "execution_count": 86,
   "metadata": {},
   "outputs": [
    {
     "name": "stdout",
     "output_type": "stream",
     "text": [
      "9359/9359 [==============================] - 44s 5ms/step\n",
      "F1 score at threshold 0.1 is 0.7983870967741934\n",
      "F1 score at threshold 0.12 is 0.8061237956975057\n",
      "F1 score at threshold 0.14 is 0.8140125685252039\n",
      "F1 score at threshold 0.16 is 0.8192510477220495\n",
      "F1 score at threshold 0.18 is 0.8238023747782176\n",
      "F1 score at threshold 0.2 is 0.8266483516483516\n",
      "F1 score at threshold 0.22 is 0.8289309915640989\n",
      "F1 score at threshold 0.24 is 0.8325905292479109\n",
      "F1 score at threshold 0.26 is 0.8337538547799271\n",
      "F1 score at threshold 0.28 is 0.8354251868565788\n",
      "F1 score at threshold 0.3 is 0.8381519274376416\n",
      "F1 score at threshold 0.32 is 0.8384341637010676\n",
      "F1 score at threshold 0.34 is 0.8392908207034601\n",
      "F1 score at threshold 0.36 is 0.8400803904679873\n",
      "F1 score at threshold 0.38 is 0.8399366085578448\n",
      "F1 score at threshold 0.4 is 0.8407938577430103\n",
      "F1 score at threshold 0.42 is 0.8406513521372492\n",
      "F1 score at threshold 0.44 is 0.8398015757222059\n",
      "F1 score at threshold 0.46 is 0.8397773872290568\n",
      "F1 score at threshold 0.48 is 0.8403237674760854\n",
      "F1 score at threshold 0.5 is 0.8412792419307077\n",
      "F1 score at threshold 0.52 is 0.8424810352521195\n",
      "F1 score at threshold 0.54 is 0.8423094136953603\n",
      "F1 score at threshold 0.56 is 0.8428314337132573\n",
      "F1 score at threshold 0.58 is 0.8426288815194453\n",
      "F1 score at threshold 0.6 is 0.840764331210191\n"
     ]
    }
   ],
   "source": [
    "Y_pred = model_Wiki_L.predict([X_test], batch_size=128, verbose=1)\n",
    "for thresh in np.arange(0.1, 0.601, 0.02):\n",
    "    thresh = np.round(thresh, 2)\n",
    "    print(\"F1 score at threshold {0} is {1}\".format(thresh, metrics.f1_score(Y_test, (Y_pred>thresh).astype(int))))"
   ]
  },
  {
   "cell_type": "code",
   "execution_count": 87,
   "metadata": {},
   "outputs": [
    {
     "data": {
      "image/png": "[encoded data removed]",
      "text/plain": [
       "<Figure size 432x288 with 2 Axes>"
      ]
     },
     "metadata": {
      "needs_background": "light"
     },
     "output_type": "display_data"
    }
   ],
   "source": [
    "from sklearn.metrics import confusion_matrix\n",
    "ax= plt.subplot()\n",
    "sns.heatmap(confusion_matrix(Y_test, (Y_pred>0.56).astype(int)), annot=True, ax = ax, fmt='g')\n",
    "# labels, title and ticks\n",
    "ax.set_xlabel('Predicted labels');ax.set_ylabel('True labels'); \n",
    "ax.set_title('Confusion Matrix'); \n",
    "ax.xaxis.set_ticklabels([ 'Sincere', 'InSincere']); \n",
    "ax.yaxis.set_ticklabels(['Sincere', 'InSincere']);"
   ]
  },
  {
   "cell_type": "markdown",
   "metadata": {},
   "source": [
    "Running the best Models with a bit of Tuning "
   ]
  },
  {
   "cell_type": "markdown",
   "metadata": {},
   "source": [
    "### 1. Bidirectional LSTM"
   ]
  },
  {
   "cell_type": "code",
   "execution_count": 60,
   "metadata": {},
   "outputs": [
    {
     "name": "stdout",
     "output_type": "stream",
     "text": [
      "_________________________________________________________________\n",
      "Layer (type)                 Output Shape              Param #   \n",
      "=================================================================\n",
      "embedding_8 (Embedding)      (None, 100, 300)          9000000   \n",
      "_________________________________________________________________\n",
      "bidirectional_6 (Bidirection (None, 100, 128)          186880    \n",
      "_________________________________________________________________\n",
      "batch_normalization_3 (Batch (None, 100, 128)          512       \n",
      "_________________________________________________________________\n",
      "global_max_pooling1d_6 (Glob (None, 128)               0         \n",
      "_________________________________________________________________\n",
      "dense_14 (Dense)             (None, 32)                4128      \n",
      "_________________________________________________________________\n",
      "dropout_9 (Dropout)          (None, 32)                0         \n",
      "_________________________________________________________________\n",
      "dense_15 (Dense)             (None, 1)                 33        \n",
      "=================================================================\n",
      "Total params: 9,191,553\n",
      "Trainable params: 9,191,297\n",
      "Non-trainable params: 256\n",
      "_________________________________________________________________\n",
      "Train on 84231 samples, validate on 9359 samples\n",
      "Epoch 1/5\n",
      "84231/84231 [==============================] - 1109s 13ms/step - loss: 0.4044 - acc: 0.8231 - val_loss: 0.3658 - val_acc: 0.8469\n",
      "Epoch 2/5\n",
      "84231/84231 [==============================] - 844s 10ms/step - loss: 0.3128 - acc: 0.8749 - val_loss: 0.3306 - val_acc: 0.8610\n",
      "Epoch 3/5\n",
      "84231/84231 [==============================] - 836s 10ms/step - loss: 0.2806 - acc: 0.8895 - val_loss: 0.3026 - val_acc: 0.8766\n",
      "Epoch 4/5\n",
      "84231/84231 [==============================] - 844s 10ms/step - loss: 0.2620 - acc: 0.8974 - val_loss: 0.2891 - val_acc: 0.8787\n",
      "Epoch 5/5\n",
      "84231/84231 [==============================] - 842s 10ms/step - loss: 0.2448 - acc: 0.9047 - val_loss: 0.2784 - val_acc: 0.8920\n",
      "9359/9359 [==============================] - 33s 3ms/step\n",
      "Test Loss:  0.2784222580913627\n",
      "Test Accuracy 0.8919756384229084\n",
      "dict_keys(['val_loss', 'val_acc', 'loss', 'acc', 'lr'])\n"
     ]
    },
    {
     "data": {
      "image/png": "[encoded data removed]",
      "text/plain": [
       "<Figure size 432x288 with 1 Axes>"
      ]
     },
     "metadata": {
      "needs_background": "light"
     },
     "output_type": "display_data"
    },
    {
     "data": {
      "image/png": "[encoded data removed]",
      "text/plain": [
       "<Figure size 432x288 with 1 Axes>"
      ]
     },
     "metadata": {
      "needs_background": "light"
     },
     "output_type": "display_data"
    },
    {
     "name": "stdout",
     "output_type": "stream",
     "text": [
      "9359/9359 [==============================] - 21s 2ms/step\n",
      "F1 score at threshold 0.1 is 0.8028852459016393\n",
      "F1 score at threshold 0.12 is 0.8106445573682802\n",
      "F1 score at threshold 0.14 is 0.8176885512750949\n",
      "F1 score at threshold 0.16 is 0.8246289169873556\n",
      "F1 score at threshold 0.18 is 0.827000695894224\n",
      "F1 score at threshold 0.2 is 0.8312676056338029\n",
      "F1 score at threshold 0.22 is 0.8354682607458013\n",
      "F1 score at threshold 0.24 is 0.8381718884736993\n",
      "F1 score at threshold 0.26 is 0.8397035314634501\n",
      "F1 score at threshold 0.28 is 0.8436032863849765\n",
      "F1 score at threshold 0.3 is 0.8441750443524543\n",
      "F1 score at threshold 0.32 is 0.8448019064641049\n",
      "F1 score at threshold 0.34 is 0.8454258675078864\n",
      "F1 score at threshold 0.36 is 0.8453139217470428\n",
      "F1 score at threshold 0.38 is 0.845247206490127\n",
      "F1 score at threshold 0.4 is 0.8443483631871526\n",
      "F1 score at threshold 0.42 is 0.8437257036230759\n",
      "F1 score at threshold 0.44 is 0.8440826549780839\n",
      "F1 score at threshold 0.46 is 0.8426028044745549\n",
      "F1 score at threshold 0.48 is 0.8394276629570748\n",
      "F1 score at threshold 0.5 is 0.8376425244901237\n",
      "F1 score at threshold 0.52 is 0.8343319838056681\n",
      "F1 score at threshold 0.54 is 0.8313174239947695\n",
      "F1 score at threshold 0.56 is 0.8251447477253928\n",
      "F1 score at threshold 0.58 is 0.8215656818561176\n",
      "F1 score at threshold 0.6 is 0.8133130596384525\n",
      "F1 score at threshold 0.62 is 0.8073644732355949\n",
      "F1 score at threshold 0.64 is 0.7977217811529167\n",
      "F1 score at threshold 0.66 is 0.7917683990233695\n",
      "F1 score at threshold 0.68 is 0.7829621774478613\n",
      "F1 score at threshold 0.7 is 0.7716535433070866\n"
     ]
    }
   ],
   "source": [
    "\n",
    "model_lstm = Sequential()\n",
    "model_lstm.add(Embedding(max_features, embed_size, input_length=maxlen))\n",
    "model_lstm.add(Bidirectional(LSTM(64, activation='relu', return_sequences=True)))\n",
    "model_lstm.add(BatchNormalization())\n",
    "model_lstm.add(GlobalMaxPool1D())\n",
    "model_lstm.add(Dense(32, activation='relu'))\n",
    "model_lstm.add(Dropout(0.3))\n",
    "model_lstm.add(Dense(1, activation='sigmoid'))\n",
    "\n",
    "rlrop = ReduceLROnPlateau(monitor='val_loss', factor=0.1, patience=1)\n",
    "opt = optimizers.SGD(lr=0.01, momentum=0.9)\n",
    "model_lstm.compile(loss='binary_crossentropy',\n",
    "                  optimizer=opt,\n",
    "                  metrics=['accuracy'])\n",
    "\n",
    "model_lstm.summary()\n",
    "\n",
    "## Train the LSTM model \n",
    "history_lstm = model_lstm.fit(X_train, Y_train, \n",
    "                              batch_size=128, \n",
    "                              epochs=5, \n",
    "                              validation_data=(X_test, Y_test),\n",
    "                              callbacks=[rlrop])\n",
    "\n",
    "\n",
    "score = model_lstm.evaluate(X_test, Y_test)\n",
    "print('Test Loss: ', score[0])\n",
    "print('Test Accuracy', score[1])\n",
    "\n",
    "\n",
    "# list all data in history\n",
    "print(history_lstm.history.keys())\n",
    "# summarize history for accuracy\n",
    "plt.plot(history_lstm.history['acc'])\n",
    "plt.plot(history_lstm.history['val_acc'])\n",
    "plt.title('Model Accuracy')\n",
    "plt.ylabel('accuracy')\n",
    "plt.xlabel('epoch')\n",
    "plt.legend(['train', 'test'], loc='upper left')\n",
    "plt.show()\n",
    "# summarize history for loss\n",
    "plt.plot(history_lstm.history['loss'])\n",
    "plt.plot(history_lstm.history['val_loss'])\n",
    "plt.title('Model Loss')\n",
    "plt.ylabel('loss')\n",
    "plt.xlabel('epoch')\n",
    "plt.legend(['train', 'test'], loc='upper left')\n",
    "plt.show()\n",
    "\n",
    "\n",
    "Y_pred = model_lstm.predict([X_test], batch_size=128, verbose=1)\n",
    "for thresh in np.arange(0.1, 0.701, 0.02):\n",
    "    thresh = np.round(thresh, 2)\n",
    "    print(\"F1 score at threshold {0} is {1}\".format(thresh, metrics.f1_score(Y_test, (Y_pred>thresh).astype(int))))\n",
    "    "
   ]
  },
  {
   "cell_type": "code",
   "execution_count": 61,
   "metadata": {},
   "outputs": [
    {
     "data": {
      "image/png": "[encoded data removed]",
      "text/plain": [
       "<Figure size 432x288 with 2 Axes>"
      ]
     },
     "metadata": {
      "needs_background": "light"
     },
     "output_type": "display_data"
    }
   ],
   "source": [
    "from sklearn.metrics import confusion_matrix\n",
    "ax= plt.subplot()\n",
    "sns.heatmap(confusion_matrix(Y_test, (Y_pred>0.34).astype(int)), annot=True, ax = ax, fmt='g')\n",
    "# labels, title and ticks\n",
    "ax.set_xlabel('Predicted labels');ax.set_ylabel('True labels'); \n",
    "ax.set_title('Confusion Matrix'); \n",
    "ax.xaxis.set_ticklabels([ 'Sincere', 'InSincere']); \n",
    "ax.yaxis.set_ticklabels(['Sincere', 'InSincere']);"
   ]
  },
  {
   "cell_type": "markdown",
   "metadata": {},
   "source": [
    "### 2. Wiki text Embedding with Bidirectional GRU "
   ]
  },
  {
   "cell_type": "code",
   "execution_count": 64,
   "metadata": {},
   "outputs": [
    {
     "name": "stdout",
     "output_type": "stream",
     "text": [
      "_________________________________________________________________\n",
      "Layer (type)                 Output Shape              Param #   \n",
      "=================================================================\n",
      "embedding_10 (Embedding)     (None, 100, 300)          9000000   \n",
      "_________________________________________________________________\n",
      "spatial_dropout1d_1 (Spatial (None, 100, 300)          0         \n",
      "_________________________________________________________________\n",
      "bidirectional_7 (Bidirection (None, 100, 128)          140160    \n",
      "_________________________________________________________________\n",
      "batch_normalization_4 (Batch (None, 100, 128)          512       \n",
      "_________________________________________________________________\n",
      "global_max_pooling1d_7 (Glob (None, 128)               0         \n",
      "_________________________________________________________________\n",
      "dense_16 (Dense)             (None, 16)                2064      \n",
      "_________________________________________________________________\n",
      "dropout_10 (Dropout)         (None, 16)                0         \n",
      "_________________________________________________________________\n",
      "dense_17 (Dense)             (None, 1)                 17        \n",
      "=================================================================\n",
      "Total params: 9,142,753\n",
      "Trainable params: 9,142,497\n",
      "Non-trainable params: 256\n",
      "_________________________________________________________________\n",
      "Train on 84231 samples, validate on 9359 samples\n",
      "Epoch 1/6\n",
      "84231/84231 [==============================] - 802s 10ms/step - loss: 0.4315 - acc: 0.7974 - val_loss: 0.3037 - val_acc: 0.8812\n",
      "Epoch 2/6\n",
      "84231/84231 [==============================] - 854s 10ms/step - loss: 0.3282 - acc: 0.8696 - val_loss: 0.2823 - val_acc: 0.8932\n",
      "Epoch 3/6\n",
      "84231/84231 [==============================] - 857s 10ms/step - loss: 0.3128 - acc: 0.8762 - val_loss: 0.2699 - val_acc: 0.8946\n",
      "Epoch 4/6\n",
      "84231/84231 [==============================] - 821s 10ms/step - loss: 0.2991 - acc: 0.8848 - val_loss: 0.2671 - val_acc: 0.8967\n",
      "Epoch 5/6\n",
      "84231/84231 [==============================] - 831s 10ms/step - loss: 0.2910 - acc: 0.8883 - val_loss: 0.2668 - val_acc: 0.8980\n",
      "Epoch 6/6\n",
      "84231/84231 [==============================] - 880s 10ms/step - loss: 0.2852 - acc: 0.8902 - val_loss: 0.2591 - val_acc: 0.9006\n",
      "9359/9359 [==============================] - 37s 4ms/step\n",
      "Test Loss:  0.2590672541809765\n",
      "Test Accuracy 0.9006304092381242\n",
      "dict_keys(['val_loss', 'val_acc', 'loss', 'acc'])\n"
     ]
    },
    {
     "data": {
      "image/png": "[encoded data removed]",
      "text/plain": [
       "<Figure size 432x288 with 1 Axes>"
      ]
     },
     "metadata": {
      "needs_background": "light"
     },
     "output_type": "display_data"
    },
    {
     "data": {
      "image/png": "[encoded data removed]",
      "text/plain": [
       "<Figure size 432x288 with 1 Axes>"
      ]
     },
     "metadata": {
      "needs_background": "light"
     },
     "output_type": "display_data"
    }
   ],
   "source": [
    "\n",
    "model_Wiki = Sequential()\n",
    "model_Wiki.add(Embedding(max_features, embed_size, input_length=maxlen, weights=[embedding_matrix]))\n",
    "model_Wiki.add(SpatialDropout1D(0.2))\n",
    "model_Wiki.add(Bidirectional(GRU(64, return_sequences=True, dropout=0.2, recurrent_dropout=0.2)))\n",
    "model_Wiki.add(BatchNormalization())\n",
    "model_Wiki.add(GlobalMaxPool1D())\n",
    "model_Wiki.add(Dense(16, activation='relu'))\n",
    "model_Wiki.add(Dropout(0.3))\n",
    "model_Wiki.add(Dense(1, activation='sigmoid'))\n",
    "\n",
    "rlrop = ReduceLROnPlateau(monitor='val_loss', factor=0.1, patience=1)\n",
    "opt = optimizers.SGD(lr=0.01, momentum=0.9)\n",
    "model_Wiki.compile(loss='binary_crossentropy',\n",
    "                  optimizer=opt,\n",
    "                  metrics=['accuracy'])\n",
    "\n",
    "model_Wiki.summary()\n",
    "\n",
    "## Train the LSTM model \n",
    "history_wiki = model_Wiki.fit(X_train, Y_train, batch_size=128, epochs=6, validation_data=(X_test, Y_test))\n",
    "\n",
    "score = model_Wiki.evaluate(X_test, Y_test)\n",
    "print('Test Loss: ', score[0])\n",
    "print('Test Accuracy', score[1])\n",
    "\n",
    "\n",
    "# list all data in history\n",
    "print(history_wiki.history.keys())\n",
    "# summarize history for accuracy\n",
    "plt.plot(history_wiki.history['acc'])\n",
    "plt.plot(history_wiki.history['val_acc'])\n",
    "plt.title('Model Accuracy')\n",
    "plt.ylabel('accuracy')\n",
    "plt.xlabel('epoch')\n",
    "plt.legend(['train', 'test'], loc='upper left')\n",
    "plt.show()\n",
    "# summarize history for loss\n",
    "plt.plot(history_wiki.history['loss'])\n",
    "plt.plot(history_wiki.history['val_loss'])\n",
    "plt.title('Model Loss')\n",
    "plt.ylabel('loss')\n",
    "plt.xlabel('epoch')\n",
    "plt.legend(['train', 'test'], loc='upper left')\n",
    "plt.show()"
   ]
  },
  {
   "cell_type": "code",
   "execution_count": 65,
   "metadata": {},
   "outputs": [
    {
     "name": "stdout",
     "output_type": "stream",
     "text": [
      "9359/9359 [==============================] - 22s 2ms/step\n",
      "F1 score at threshold 0.1 is 0.7922077922077924\n",
      "F1 score at threshold 0.12 is 0.8035297171035557\n",
      "F1 score at threshold 0.14 is 0.812689219428722\n",
      "F1 score at threshold 0.16 is 0.8193574190107985\n",
      "F1 score at threshold 0.18 is 0.824244060475162\n",
      "F1 score at threshold 0.2 is 0.8287232592996321\n",
      "F1 score at threshold 0.22 is 0.833447943886673\n",
      "F1 score at threshold 0.24 is 0.8374028856825749\n",
      "F1 score at threshold 0.26 is 0.8413542249580303\n",
      "F1 score at threshold 0.28 is 0.8441193021947102\n",
      "F1 score at threshold 0.3 is 0.8477552754567341\n",
      "F1 score at threshold 0.32 is 0.8500071357214215\n",
      "F1 score at threshold 0.34 is 0.85163332853648\n",
      "F1 score at threshold 0.36 is 0.8547429398986242\n",
      "F1 score at threshold 0.38 is 0.8560583941605839\n",
      "F1 score at threshold 0.4 is 0.8571008526903853\n",
      "F1 score at threshold 0.42 is 0.8582840236686391\n",
      "F1 score at threshold 0.44 is 0.8587183308494785\n",
      "F1 score at threshold 0.46 is 0.8603569821508924\n",
      "F1 score at threshold 0.48 is 0.8593915544119872\n",
      "F1 score at threshold 0.5 is 0.8581452104942038\n",
      "F1 score at threshold 0.52 is 0.8575827559661278\n",
      "F1 score at threshold 0.54 is 0.855054432348367\n",
      "F1 score at threshold 0.56 is 0.8523711989916496\n",
      "F1 score at threshold 0.58 is 0.8498168498168499\n",
      "F1 score at threshold 0.6 is 0.8443943298969072\n",
      "F1 score at threshold 0.62 is 0.8376485914346198\n",
      "F1 score at threshold 0.64 is 0.8310788518640714\n",
      "F1 score at threshold 0.66 is 0.8246082027342446\n",
      "F1 score at threshold 0.68 is 0.8190411883862255\n",
      "F1 score at threshold 0.7 is 0.8105892399658412\n"
     ]
    }
   ],
   "source": [
    "Y_pred = model_Wiki.predict([X_test], batch_size=128, verbose=1)\n",
    "for thresh in np.arange(0.1, 0.701, 0.02):\n",
    "    thresh = np.round(thresh, 2)\n",
    "    print(\"F1 score at threshold {0} is {1}\".format(thresh, metrics.f1_score(Y_test, (Y_pred>thresh).astype(int))))"
   ]
  },
  {
   "cell_type": "code",
   "execution_count": 66,
   "metadata": {},
   "outputs": [
    {
     "data": {
      "image/png": "[encoded data removed]",
      "text/plain": [
       "<Figure size 432x288 with 2 Axes>"
      ]
     },
     "metadata": {
      "needs_background": "light"
     },
     "output_type": "display_data"
    }
   ],
   "source": [
    "from sklearn.metrics import confusion_matrix\n",
    "ax= plt.subplot()\n",
    "sns.heatmap(confusion_matrix(Y_test, (Y_pred>0.46).astype(int)), annot=True, ax = ax, fmt='g')\n",
    "# labels, title and ticks\n",
    "ax.set_xlabel('Predicted labels');ax.set_ylabel('True labels'); \n",
    "ax.set_title('Confusion Matrix'); \n",
    "ax.xaxis.set_ticklabels([ 'Sincere', 'InSincere']); \n",
    "ax.yaxis.set_ticklabels(['Sincere', 'InSincere']);"
   ]
  },
  {
   "cell_type": "markdown",
   "metadata": {},
   "source": [
    "I have run multiple Deep Learning models like LSTM, GRU, Conv1D, Bidirectional LSTM and used different Embeddings from training my own Embedding layer to using Wiki Fast Text Embedding. Lets do the next part of Tuning various hyperparameters now.\n",
    "\n",
    "I will select the best Model from here and use it for further tuning. "
   ]
  },
  {
   "cell_type": "markdown",
   "metadata": {},
   "source": [
    "### License\n",
    "MIT License\n",
    "\n",
    "Copyright (c) 2020 Nikhil Kohli\n",
    "\n",
    "Permission is hereby granted, free of charge, to any person obtaining a copy of this software and associated documentation files (the \"Software\"), to deal in the Software without restriction, including without limitation the rights to use, copy, modify, merge, publish, distribute, sublicense, and/or sell copies of the Software, and to permit persons to whom the Software is furnished to do so, subject to the following conditions:\n",
    "\n",
    "The above copyright notice and this permission notice shall be included in all copies or substantial portions of the Software.\n",
    "\n",
    "THE SOFTWARE IS PROVIDED \"AS IS\", WITHOUT WARRANTY OF ANY KIND, EXPRESS OR IMPLIED, INCLUDING BUT NOT LIMITED TO THE WARRANTIES OF MERCHANTABILITY, FITNESS FOR A PARTICULAR PURPOSE AND NONINFRINGEMENT. IN NO EVENT SHALL THE AUTHORS OR COPYRIGHT HOLDERS BE LIABLE FOR ANY CLAIM, DAMAGES OR OTHER LIABILITY, WHETHER IN AN ACTION OF CONTRACT, TORT OR OTHERWISE, ARISING FROM, OUT OF OR IN CONNECTION WITH THE SOFTWARE OR THE USE OR OTHER DEALINGS IN THE SOFTWARE."
   ]
  }
 ],
 "metadata": {
  "kernelspec": {
   "display_name": "Python 3",
   "language": "python",
   "name": "python3"
  },
  "language_info": {
   "codemirror_mode": {
    "name": "ipython",
    "version": 3
   },
   "file_extension": ".py",
   "mimetype": "text/x-python",
   "name": "python",
   "nbconvert_exporter": "python",
   "pygments_lexer": "ipython3",
   "version": "3.6.5"
  }
 },
 "nbformat": 4,
 "nbformat_minor": 2
}
